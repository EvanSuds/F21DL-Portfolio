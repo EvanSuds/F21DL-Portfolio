{
 "cells": [
  {
   "cell_type": "markdown",
   "id": "a95039b4",
   "metadata": {},
   "source": [
    "F21DL Coursework,\n",
    "Evan Sutherland, H00297347"
   ]
  },
  {
   "cell_type": "markdown",
   "id": "9bdd3572",
   "metadata": {},
   "source": [
    "# Choice of data set\n",
    "I chose this data set because I have an interest in football and because a football match has both a large number of factors which can affect the outcome as well as having multiple interesting statistics from which conclusions can be drawn from. I have therefore chosen a soccer dataset from kaggle.com (Available at https://www.kaggle.com/ajumzu/bundesliga-1-results-and-metrics-2011-to-2021). This is a large dataset of football matches and the statistics from the German Bundesliga from the 2011/12 to the 2020/21 seasons as well as the pre-match bookmakers odds and team statistics. There are 55 different attributes and just over 3000 instances in this dataset. The dataset also contains a well defined dictionary which makes selecting the most appropriate attributes to use is straightforward."
   ]
  },
  {
   "cell_type": "markdown",
   "id": "4f544f52",
   "metadata": {},
   "source": [
    "# Setting up Python"
   ]
  },
  {
   "cell_type": "code",
   "execution_count": 1,
   "id": "3b16486d",
   "metadata": {},
   "outputs": [],
   "source": [
    "#Asserting python 3 is used\n",
    "import sys\n",
    "assert sys.version_info >= (3, 5)"
   ]
  },
  {
   "cell_type": "code",
   "execution_count": 2,
   "id": "9ebd5577",
   "metadata": {},
   "outputs": [],
   "source": [
    "#Importing Sklearn and asserting v0.2 or greater is used\n",
    "import sklearn\n",
    "assert sklearn.__version__ >= \"0.20\""
   ]
  },
  {
   "cell_type": "code",
   "execution_count": 3,
   "id": "eec7559e",
   "metadata": {},
   "outputs": [],
   "source": [
    "#Importing Numpy, File I/O and pandas \n",
    "import numpy as np\n",
    "import os\n",
    "import tarfile\n",
    "import urllib\n",
    "import pandas as pd\n",
    "import urllib.request"
   ]
  },
  {
   "cell_type": "code",
   "execution_count": 4,
   "id": "fded6da4",
   "metadata": {},
   "outputs": [],
   "source": [
    "#Importing matplotlib\n",
    "%matplotlib inline\n",
    "import matplotlib as mpl\n",
    "import matplotlib.pyplot as plt"
   ]
  },
  {
   "cell_type": "markdown",
   "id": "9a4518bc",
   "metadata": {},
   "source": [
    "# Importing the dataset"
   ]
  },
  {
   "cell_type": "code",
   "execution_count": 5,
   "id": "dd60d77c",
   "metadata": {},
   "outputs": [],
   "source": [
    "#Define the file path to the dataset\n",
    "FOOTBALLSTATS_PATH = os.path.join(\"datasets\",\"footballStats\")"
   ]
  },
  {
   "cell_type": "code",
   "execution_count": 6,
   "id": "91d39112",
   "metadata": {},
   "outputs": [],
   "source": [
    "#Load the dataset using a function and convert to a pandas dataframe\n",
    "def load_footballstats_data(footballstats_path = FOOTBALLSTATS_PATH):\n",
    "    csv_path = os.path.join(footballstats_path,\"SoccerData.csv\")\n",
    "    return pd.read_csv(csv_path)"
   ]
  },
  {
   "cell_type": "code",
   "execution_count": 7,
   "id": "3bd66f0f",
   "metadata": {},
   "outputs": [
    {
     "data": {
      "text/html": [
       "<div>\n",
       "<style scoped>\n",
       "    .dataframe tbody tr th:only-of-type {\n",
       "        vertical-align: middle;\n",
       "    }\n",
       "\n",
       "    .dataframe tbody tr th {\n",
       "        vertical-align: top;\n",
       "    }\n",
       "\n",
       "    .dataframe thead th {\n",
       "        text-align: right;\n",
       "    }\n",
       "</style>\n",
       "<table border=\"1\" class=\"dataframe\">\n",
       "  <thead>\n",
       "    <tr style=\"text-align: right;\">\n",
       "      <th></th>\n",
       "      <th>Date</th>\n",
       "      <th>GameDay</th>\n",
       "      <th>HomeTeam</th>\n",
       "      <th>AwayTeam</th>\n",
       "      <th>FullTimeHomeGoals</th>\n",
       "      <th>FullTimeAwayGoals</th>\n",
       "      <th>FullTimeResult</th>\n",
       "      <th>HalfTimeHomeGoals</th>\n",
       "      <th>HalfTimeAwayGoals</th>\n",
       "      <th>HalfTimeResult</th>\n",
       "      <th>...</th>\n",
       "      <th>FoulsDiff</th>\n",
       "      <th>HomeSeasonCorners</th>\n",
       "      <th>AwaySeasonCorners</th>\n",
       "      <th>CornersDiff</th>\n",
       "      <th>HomeSeasonYC</th>\n",
       "      <th>AwaySeasonYC</th>\n",
       "      <th>YCDiff</th>\n",
       "      <th>HomeSeasonRC</th>\n",
       "      <th>AwaySeasonRC</th>\n",
       "      <th>RCDiff</th>\n",
       "    </tr>\n",
       "  </thead>\n",
       "  <tbody>\n",
       "    <tr>\n",
       "      <th>0</th>\n",
       "      <td>8.5.2011</td>\n",
       "      <td>1</td>\n",
       "      <td>Dortmund</td>\n",
       "      <td>Hamburg</td>\n",
       "      <td>3</td>\n",
       "      <td>1</td>\n",
       "      <td>H</td>\n",
       "      <td>2</td>\n",
       "      <td>0</td>\n",
       "      <td>H</td>\n",
       "      <td>...</td>\n",
       "      <td>0</td>\n",
       "      <td>0</td>\n",
       "      <td>0</td>\n",
       "      <td>0</td>\n",
       "      <td>0</td>\n",
       "      <td>0</td>\n",
       "      <td>0</td>\n",
       "      <td>0</td>\n",
       "      <td>0</td>\n",
       "      <td>0</td>\n",
       "    </tr>\n",
       "    <tr>\n",
       "      <th>1</th>\n",
       "      <td>8.6.2011</td>\n",
       "      <td>1</td>\n",
       "      <td>Augsburg</td>\n",
       "      <td>Freiburg</td>\n",
       "      <td>2</td>\n",
       "      <td>2</td>\n",
       "      <td>D</td>\n",
       "      <td>0</td>\n",
       "      <td>0</td>\n",
       "      <td>D</td>\n",
       "      <td>...</td>\n",
       "      <td>0</td>\n",
       "      <td>0</td>\n",
       "      <td>0</td>\n",
       "      <td>0</td>\n",
       "      <td>0</td>\n",
       "      <td>0</td>\n",
       "      <td>0</td>\n",
       "      <td>0</td>\n",
       "      <td>0</td>\n",
       "      <td>0</td>\n",
       "    </tr>\n",
       "    <tr>\n",
       "      <th>2</th>\n",
       "      <td>8.6.2011</td>\n",
       "      <td>1</td>\n",
       "      <td>FC Koln</td>\n",
       "      <td>Wolfsburg</td>\n",
       "      <td>0</td>\n",
       "      <td>3</td>\n",
       "      <td>A</td>\n",
       "      <td>0</td>\n",
       "      <td>1</td>\n",
       "      <td>A</td>\n",
       "      <td>...</td>\n",
       "      <td>0</td>\n",
       "      <td>0</td>\n",
       "      <td>0</td>\n",
       "      <td>0</td>\n",
       "      <td>0</td>\n",
       "      <td>0</td>\n",
       "      <td>0</td>\n",
       "      <td>0</td>\n",
       "      <td>0</td>\n",
       "      <td>0</td>\n",
       "    </tr>\n",
       "    <tr>\n",
       "      <th>3</th>\n",
       "      <td>8.6.2011</td>\n",
       "      <td>1</td>\n",
       "      <td>Hannover</td>\n",
       "      <td>Hoffenheim</td>\n",
       "      <td>2</td>\n",
       "      <td>1</td>\n",
       "      <td>H</td>\n",
       "      <td>2</td>\n",
       "      <td>1</td>\n",
       "      <td>H</td>\n",
       "      <td>...</td>\n",
       "      <td>0</td>\n",
       "      <td>0</td>\n",
       "      <td>0</td>\n",
       "      <td>0</td>\n",
       "      <td>0</td>\n",
       "      <td>0</td>\n",
       "      <td>0</td>\n",
       "      <td>0</td>\n",
       "      <td>0</td>\n",
       "      <td>0</td>\n",
       "    </tr>\n",
       "    <tr>\n",
       "      <th>4</th>\n",
       "      <td>8.6.2011</td>\n",
       "      <td>1</td>\n",
       "      <td>Hertha</td>\n",
       "      <td>Nurnberg</td>\n",
       "      <td>0</td>\n",
       "      <td>1</td>\n",
       "      <td>A</td>\n",
       "      <td>0</td>\n",
       "      <td>0</td>\n",
       "      <td>D</td>\n",
       "      <td>...</td>\n",
       "      <td>0</td>\n",
       "      <td>0</td>\n",
       "      <td>0</td>\n",
       "      <td>0</td>\n",
       "      <td>0</td>\n",
       "      <td>0</td>\n",
       "      <td>0</td>\n",
       "      <td>0</td>\n",
       "      <td>0</td>\n",
       "      <td>0</td>\n",
       "    </tr>\n",
       "  </tbody>\n",
       "</table>\n",
       "<p>5 rows × 55 columns</p>\n",
       "</div>"
      ],
      "text/plain": [
       "       Date  GameDay  HomeTeam    AwayTeam  FullTimeHomeGoals  \\\n",
       "0  8.5.2011        1  Dortmund     Hamburg                  3   \n",
       "1  8.6.2011        1  Augsburg    Freiburg                  2   \n",
       "2  8.6.2011        1   FC Koln   Wolfsburg                  0   \n",
       "3  8.6.2011        1  Hannover  Hoffenheim                  2   \n",
       "4  8.6.2011        1    Hertha    Nurnberg                  0   \n",
       "\n",
       "   FullTimeAwayGoals FullTimeResult  HalfTimeHomeGoals  HalfTimeAwayGoals  \\\n",
       "0                  1              H                  2                  0   \n",
       "1                  2              D                  0                  0   \n",
       "2                  3              A                  0                  1   \n",
       "3                  1              H                  2                  1   \n",
       "4                  1              A                  0                  0   \n",
       "\n",
       "  HalfTimeResult  ...  FoulsDiff  HomeSeasonCorners  AwaySeasonCorners  \\\n",
       "0              H  ...          0                  0                  0   \n",
       "1              D  ...          0                  0                  0   \n",
       "2              A  ...          0                  0                  0   \n",
       "3              H  ...          0                  0                  0   \n",
       "4              D  ...          0                  0                  0   \n",
       "\n",
       "   CornersDiff  HomeSeasonYC  AwaySeasonYC  YCDiff  HomeSeasonRC  \\\n",
       "0            0             0             0       0             0   \n",
       "1            0             0             0       0             0   \n",
       "2            0             0             0       0             0   \n",
       "3            0             0             0       0             0   \n",
       "4            0             0             0       0             0   \n",
       "\n",
       "   AwaySeasonRC  RCDiff  \n",
       "0             0       0  \n",
       "1             0       0  \n",
       "2             0       0  \n",
       "3             0       0  \n",
       "4             0       0  \n",
       "\n",
       "[5 rows x 55 columns]"
      ]
     },
     "execution_count": 7,
     "metadata": {},
     "output_type": "execute_result"
    }
   ],
   "source": [
    "football = load_footballstats_data()\n",
    "football.head()"
   ]
  },
  {
   "cell_type": "code",
   "execution_count": 8,
   "id": "cbde784e",
   "metadata": {},
   "outputs": [
    {
     "name": "stdout",
     "output_type": "stream",
     "text": [
      "<class 'pandas.core.frame.DataFrame'>\n",
      "RangeIndex: 3060 entries, 0 to 3059\n",
      "Data columns (total 55 columns):\n",
      " #   Column                  Non-Null Count  Dtype  \n",
      "---  ------                  --------------  -----  \n",
      " 0   Date                    3060 non-null   object \n",
      " 1   GameDay                 3060 non-null   int64  \n",
      " 2   HomeTeam                3060 non-null   object \n",
      " 3   AwayTeam                3060 non-null   object \n",
      " 4   FullTimeHomeGoals       3060 non-null   int64  \n",
      " 5   FullTimeAwayGoals       3060 non-null   int64  \n",
      " 6   FullTimeResult          3060 non-null   object \n",
      " 7   HalfTimeHomeGoals       3060 non-null   int64  \n",
      " 8   HalfTimeAwayGoals       3060 non-null   int64  \n",
      " 9   HalfTimeResult          3060 non-null   object \n",
      " 10  HomeShots               3060 non-null   int64  \n",
      " 11  AwayShots               3060 non-null   int64  \n",
      " 12  HomeShotsOnGoal         3060 non-null   int64  \n",
      " 13  AwayShotsOnGoal         3060 non-null   int64  \n",
      " 14  HomeFouls               3060 non-null   int64  \n",
      " 15  AwayFouls               3060 non-null   int64  \n",
      " 16  HomeCorners             3060 non-null   int64  \n",
      " 17  AwayCorners             3060 non-null   int64  \n",
      " 18  HomeYellowCards         3060 non-null   int64  \n",
      " 19  AwayYellowCards         3060 non-null   int64  \n",
      " 20  HomeRedCards            3060 non-null   int64  \n",
      " 21  AwayRedCards            3060 non-null   int64  \n",
      " 22  AverageHomeWinOdds      2448 non-null   float64\n",
      " 23  AverageDrawOdds         2448 non-null   float64\n",
      " 24  AverageAwayWinOdds      2448 non-null   float64\n",
      " 25  HomePoints              3060 non-null   int64  \n",
      " 26  AwayPoints              3060 non-null   int64  \n",
      " 27  HomeSeasonScore         3060 non-null   int64  \n",
      " 28  AwaySeasonScore         3060 non-null   int64  \n",
      " 29  SeasonScoreDiff         3060 non-null   int64  \n",
      " 30  HomeSeasonGoals         3060 non-null   int64  \n",
      " 31  AwaySeasonGoals         3060 non-null   int64  \n",
      " 32  HomeSeasonGoalsAgainst  3060 non-null   int64  \n",
      " 33  AwaySeasonGoalsAgainst  3060 non-null   int64  \n",
      " 34  HomeGoalDiff            3060 non-null   int64  \n",
      " 35  AwayGoalDiff            3060 non-null   int64  \n",
      " 36  GoalDiffDiff            3060 non-null   int64  \n",
      " 37  HomeSeasonShots         3060 non-null   int64  \n",
      " 38  AwaySeasonShots         3060 non-null   int64  \n",
      " 39  ShotDiff                3060 non-null   int64  \n",
      " 40  HomeSeasonGoalShots     3060 non-null   int64  \n",
      " 41  AwaySeasonGoalShots     3060 non-null   int64  \n",
      " 42  GoalShotDiff            3060 non-null   int64  \n",
      " 43  HomeSeasonFouls         3060 non-null   int64  \n",
      " 44  AwaySeasonFouls         3060 non-null   int64  \n",
      " 45  FoulsDiff               3060 non-null   int64  \n",
      " 46  HomeSeasonCorners       3060 non-null   int64  \n",
      " 47  AwaySeasonCorners       3060 non-null   int64  \n",
      " 48  CornersDiff             3060 non-null   int64  \n",
      " 49  HomeSeasonYC            3060 non-null   int64  \n",
      " 50  AwaySeasonYC            3060 non-null   int64  \n",
      " 51  YCDiff                  3060 non-null   int64  \n",
      " 52  HomeSeasonRC            3060 non-null   int64  \n",
      " 53  AwaySeasonRC            3060 non-null   int64  \n",
      " 54  RCDiff                  3060 non-null   int64  \n",
      "dtypes: float64(3), int64(47), object(5)\n",
      "memory usage: 1.3+ MB\n"
     ]
    }
   ],
   "source": [
    "football.info()"
   ]
  },
  {
   "cell_type": "markdown",
   "id": "1afc51a2",
   "metadata": {},
   "source": [
    "As we can see from using the .info() method, not all of the attributes have all the values, therefore it is an incomplete dataset. Some of the fields have blank values (the pre-match odds for a home win, draw and away win). The rest of the dataset is complete however. Since this is a relatively large dataset ~3000 results, we can delete the records which have a blank value, leaving us with a complete dataset. "
   ]
  },
  {
   "cell_type": "code",
   "execution_count": 9,
   "id": "4e68f818",
   "metadata": {},
   "outputs": [
    {
     "data": {
      "text/html": [
       "<div>\n",
       "<style scoped>\n",
       "    .dataframe tbody tr th:only-of-type {\n",
       "        vertical-align: middle;\n",
       "    }\n",
       "\n",
       "    .dataframe tbody tr th {\n",
       "        vertical-align: top;\n",
       "    }\n",
       "\n",
       "    .dataframe thead th {\n",
       "        text-align: right;\n",
       "    }\n",
       "</style>\n",
       "<table border=\"1\" class=\"dataframe\">\n",
       "  <thead>\n",
       "    <tr style=\"text-align: right;\">\n",
       "      <th></th>\n",
       "      <th>GameDay</th>\n",
       "      <th>FullTimeHomeGoals</th>\n",
       "      <th>FullTimeAwayGoals</th>\n",
       "      <th>HalfTimeHomeGoals</th>\n",
       "      <th>HalfTimeAwayGoals</th>\n",
       "      <th>HomeShots</th>\n",
       "      <th>AwayShots</th>\n",
       "      <th>HomeShotsOnGoal</th>\n",
       "      <th>AwayShotsOnGoal</th>\n",
       "      <th>HomeFouls</th>\n",
       "      <th>...</th>\n",
       "      <th>FoulsDiff</th>\n",
       "      <th>HomeSeasonCorners</th>\n",
       "      <th>AwaySeasonCorners</th>\n",
       "      <th>CornersDiff</th>\n",
       "      <th>HomeSeasonYC</th>\n",
       "      <th>AwaySeasonYC</th>\n",
       "      <th>YCDiff</th>\n",
       "      <th>HomeSeasonRC</th>\n",
       "      <th>AwaySeasonRC</th>\n",
       "      <th>RCDiff</th>\n",
       "    </tr>\n",
       "  </thead>\n",
       "  <tbody>\n",
       "    <tr>\n",
       "      <th>count</th>\n",
       "      <td>3060.000000</td>\n",
       "      <td>3060.000000</td>\n",
       "      <td>3060.000000</td>\n",
       "      <td>3060.000000</td>\n",
       "      <td>3060.000000</td>\n",
       "      <td>3060.000000</td>\n",
       "      <td>3060.000000</td>\n",
       "      <td>3060.000000</td>\n",
       "      <td>3060.000000</td>\n",
       "      <td>3060.000000</td>\n",
       "      <td>...</td>\n",
       "      <td>3060.000000</td>\n",
       "      <td>3060.000000</td>\n",
       "      <td>3060.000000</td>\n",
       "      <td>3060.000000</td>\n",
       "      <td>3060.000000</td>\n",
       "      <td>3060.000000</td>\n",
       "      <td>3060.000000</td>\n",
       "      <td>3060.000000</td>\n",
       "      <td>3060.000000</td>\n",
       "      <td>3060.000000</td>\n",
       "    </tr>\n",
       "    <tr>\n",
       "      <th>mean</th>\n",
       "      <td>17.507843</td>\n",
       "      <td>1.653922</td>\n",
       "      <td>1.308170</td>\n",
       "      <td>0.732026</td>\n",
       "      <td>0.566667</td>\n",
       "      <td>14.097712</td>\n",
       "      <td>11.674837</td>\n",
       "      <td>5.137908</td>\n",
       "      <td>4.279412</td>\n",
       "      <td>13.648693</td>\n",
       "      <td>...</td>\n",
       "      <td>0.408170</td>\n",
       "      <td>79.163072</td>\n",
       "      <td>79.686928</td>\n",
       "      <td>-0.523856</td>\n",
       "      <td>30.415033</td>\n",
       "      <td>30.246405</td>\n",
       "      <td>0.168627</td>\n",
       "      <td>1.427451</td>\n",
       "      <td>1.412418</td>\n",
       "      <td>0.015033</td>\n",
       "    </tr>\n",
       "    <tr>\n",
       "      <th>std</th>\n",
       "      <td>9.817471</td>\n",
       "      <td>1.369172</td>\n",
       "      <td>1.218845</td>\n",
       "      <td>0.852714</td>\n",
       "      <td>0.738295</td>\n",
       "      <td>5.191960</td>\n",
       "      <td>4.694647</td>\n",
       "      <td>2.670520</td>\n",
       "      <td>2.408584</td>\n",
       "      <td>4.413987</td>\n",
       "      <td>...</td>\n",
       "      <td>47.699784</td>\n",
       "      <td>50.678997</td>\n",
       "      <td>50.438794</td>\n",
       "      <td>26.105059</td>\n",
       "      <td>19.329348</td>\n",
       "      <td>19.384803</td>\n",
       "      <td>9.695174</td>\n",
       "      <td>1.501758</td>\n",
       "      <td>1.487831</td>\n",
       "      <td>1.691015</td>\n",
       "    </tr>\n",
       "    <tr>\n",
       "      <th>min</th>\n",
       "      <td>1.000000</td>\n",
       "      <td>0.000000</td>\n",
       "      <td>0.000000</td>\n",
       "      <td>0.000000</td>\n",
       "      <td>0.000000</td>\n",
       "      <td>1.000000</td>\n",
       "      <td>0.000000</td>\n",
       "      <td>0.000000</td>\n",
       "      <td>0.000000</td>\n",
       "      <td>2.000000</td>\n",
       "      <td>...</td>\n",
       "      <td>-200.000000</td>\n",
       "      <td>0.000000</td>\n",
       "      <td>0.000000</td>\n",
       "      <td>-122.000000</td>\n",
       "      <td>0.000000</td>\n",
       "      <td>0.000000</td>\n",
       "      <td>-39.000000</td>\n",
       "      <td>0.000000</td>\n",
       "      <td>0.000000</td>\n",
       "      <td>-7.000000</td>\n",
       "    </tr>\n",
       "    <tr>\n",
       "      <th>25%</th>\n",
       "      <td>9.000000</td>\n",
       "      <td>1.000000</td>\n",
       "      <td>0.000000</td>\n",
       "      <td>0.000000</td>\n",
       "      <td>0.000000</td>\n",
       "      <td>10.000000</td>\n",
       "      <td>8.000000</td>\n",
       "      <td>3.000000</td>\n",
       "      <td>3.000000</td>\n",
       "      <td>11.000000</td>\n",
       "      <td>...</td>\n",
       "      <td>-24.000000</td>\n",
       "      <td>37.000000</td>\n",
       "      <td>37.000000</td>\n",
       "      <td>-13.000000</td>\n",
       "      <td>14.000000</td>\n",
       "      <td>14.000000</td>\n",
       "      <td>-5.000000</td>\n",
       "      <td>0.000000</td>\n",
       "      <td>0.000000</td>\n",
       "      <td>-1.000000</td>\n",
       "    </tr>\n",
       "    <tr>\n",
       "      <th>50%</th>\n",
       "      <td>18.000000</td>\n",
       "      <td>1.000000</td>\n",
       "      <td>1.000000</td>\n",
       "      <td>1.000000</td>\n",
       "      <td>0.000000</td>\n",
       "      <td>14.000000</td>\n",
       "      <td>11.000000</td>\n",
       "      <td>5.000000</td>\n",
       "      <td>4.000000</td>\n",
       "      <td>13.000000</td>\n",
       "      <td>...</td>\n",
       "      <td>0.000000</td>\n",
       "      <td>77.000000</td>\n",
       "      <td>78.000000</td>\n",
       "      <td>0.000000</td>\n",
       "      <td>30.000000</td>\n",
       "      <td>29.000000</td>\n",
       "      <td>0.000000</td>\n",
       "      <td>1.000000</td>\n",
       "      <td>1.000000</td>\n",
       "      <td>0.000000</td>\n",
       "    </tr>\n",
       "    <tr>\n",
       "      <th>75%</th>\n",
       "      <td>26.000000</td>\n",
       "      <td>2.000000</td>\n",
       "      <td>2.000000</td>\n",
       "      <td>1.000000</td>\n",
       "      <td>1.000000</td>\n",
       "      <td>17.000000</td>\n",
       "      <td>15.000000</td>\n",
       "      <td>7.000000</td>\n",
       "      <td>6.000000</td>\n",
       "      <td>17.000000</td>\n",
       "      <td>...</td>\n",
       "      <td>24.000000</td>\n",
       "      <td>117.000000</td>\n",
       "      <td>116.000000</td>\n",
       "      <td>12.000000</td>\n",
       "      <td>45.000000</td>\n",
       "      <td>45.000000</td>\n",
       "      <td>5.000000</td>\n",
       "      <td>2.000000</td>\n",
       "      <td>2.000000</td>\n",
       "      <td>1.000000</td>\n",
       "    </tr>\n",
       "    <tr>\n",
       "      <th>max</th>\n",
       "      <td>34.000000</td>\n",
       "      <td>9.000000</td>\n",
       "      <td>7.000000</td>\n",
       "      <td>6.000000</td>\n",
       "      <td>5.000000</td>\n",
       "      <td>36.000000</td>\n",
       "      <td>32.000000</td>\n",
       "      <td>16.000000</td>\n",
       "      <td>14.000000</td>\n",
       "      <td>32.000000</td>\n",
       "      <td>...</td>\n",
       "      <td>190.000000</td>\n",
       "      <td>282.000000</td>\n",
       "      <td>276.000000</td>\n",
       "      <td>134.000000</td>\n",
       "      <td>86.000000</td>\n",
       "      <td>91.000000</td>\n",
       "      <td>51.000000</td>\n",
       "      <td>8.000000</td>\n",
       "      <td>8.000000</td>\n",
       "      <td>6.000000</td>\n",
       "    </tr>\n",
       "  </tbody>\n",
       "</table>\n",
       "<p>8 rows × 50 columns</p>\n",
       "</div>"
      ],
      "text/plain": [
       "           GameDay  FullTimeHomeGoals  FullTimeAwayGoals  HalfTimeHomeGoals  \\\n",
       "count  3060.000000        3060.000000        3060.000000        3060.000000   \n",
       "mean     17.507843           1.653922           1.308170           0.732026   \n",
       "std       9.817471           1.369172           1.218845           0.852714   \n",
       "min       1.000000           0.000000           0.000000           0.000000   \n",
       "25%       9.000000           1.000000           0.000000           0.000000   \n",
       "50%      18.000000           1.000000           1.000000           1.000000   \n",
       "75%      26.000000           2.000000           2.000000           1.000000   \n",
       "max      34.000000           9.000000           7.000000           6.000000   \n",
       "\n",
       "       HalfTimeAwayGoals    HomeShots    AwayShots  HomeShotsOnGoal  \\\n",
       "count        3060.000000  3060.000000  3060.000000      3060.000000   \n",
       "mean            0.566667    14.097712    11.674837         5.137908   \n",
       "std             0.738295     5.191960     4.694647         2.670520   \n",
       "min             0.000000     1.000000     0.000000         0.000000   \n",
       "25%             0.000000    10.000000     8.000000         3.000000   \n",
       "50%             0.000000    14.000000    11.000000         5.000000   \n",
       "75%             1.000000    17.000000    15.000000         7.000000   \n",
       "max             5.000000    36.000000    32.000000        16.000000   \n",
       "\n",
       "       AwayShotsOnGoal    HomeFouls  ...    FoulsDiff  HomeSeasonCorners  \\\n",
       "count      3060.000000  3060.000000  ...  3060.000000        3060.000000   \n",
       "mean          4.279412    13.648693  ...     0.408170          79.163072   \n",
       "std           2.408584     4.413987  ...    47.699784          50.678997   \n",
       "min           0.000000     2.000000  ...  -200.000000           0.000000   \n",
       "25%           3.000000    11.000000  ...   -24.000000          37.000000   \n",
       "50%           4.000000    13.000000  ...     0.000000          77.000000   \n",
       "75%           6.000000    17.000000  ...    24.000000         117.000000   \n",
       "max          14.000000    32.000000  ...   190.000000         282.000000   \n",
       "\n",
       "       AwaySeasonCorners  CornersDiff  HomeSeasonYC  AwaySeasonYC  \\\n",
       "count        3060.000000  3060.000000   3060.000000   3060.000000   \n",
       "mean           79.686928    -0.523856     30.415033     30.246405   \n",
       "std            50.438794    26.105059     19.329348     19.384803   \n",
       "min             0.000000  -122.000000      0.000000      0.000000   \n",
       "25%            37.000000   -13.000000     14.000000     14.000000   \n",
       "50%            78.000000     0.000000     30.000000     29.000000   \n",
       "75%           116.000000    12.000000     45.000000     45.000000   \n",
       "max           276.000000   134.000000     86.000000     91.000000   \n",
       "\n",
       "            YCDiff  HomeSeasonRC  AwaySeasonRC       RCDiff  \n",
       "count  3060.000000   3060.000000   3060.000000  3060.000000  \n",
       "mean      0.168627      1.427451      1.412418     0.015033  \n",
       "std       9.695174      1.501758      1.487831     1.691015  \n",
       "min     -39.000000      0.000000      0.000000    -7.000000  \n",
       "25%      -5.000000      0.000000      0.000000    -1.000000  \n",
       "50%       0.000000      1.000000      1.000000     0.000000  \n",
       "75%       5.000000      2.000000      2.000000     1.000000  \n",
       "max      51.000000      8.000000      8.000000     6.000000  \n",
       "\n",
       "[8 rows x 50 columns]"
      ]
     },
     "execution_count": 9,
     "metadata": {},
     "output_type": "execute_result"
    }
   ],
   "source": [
    "football.describe()"
   ]
  },
  {
   "cell_type": "markdown",
   "id": "e924e3e7",
   "metadata": {},
   "source": [
    "Using the .describe() method we can see the mean, standard deviation, range and the 25%, 50% and 75% percentile for all the fields with numerical values (50 attributes out of 55). We can gain some basic insights into the dataset with this such as the average number of goals the away team scores is 1.272 which is less than the home team average of 1.65. This is expected as the home time typically has greater odds of winning matches and therefore more likely to score. Another example is there is a greater variance in the number of shots that the home team has compared to the away time. This is another expected value as the range of values is greater for the home team than the away team."
   ]
  },
  {
   "cell_type": "code",
   "execution_count": 10,
   "id": "c2b7e6ea",
   "metadata": {
    "scrolled": true
   },
   "outputs": [
    {
     "data": {
      "image/png": "[encoded data removed]",
      "text/plain": [
       "<Figure size 1440x1080 with 56 Axes>"
      ]
     },
     "metadata": {
      "needs_background": "light"
     },
     "output_type": "display_data"
    }
   ],
   "source": [
    "football.hist(bins=50, figsize=(20,15))\n",
    "plt.show()"
   ]
  },
  {
   "cell_type": "markdown",
   "id": "21022ac8",
   "metadata": {},
   "source": [
    "Using the .hist() function, we can see that a lot of the attributes follow a bell curve distribution sucha as the number of fouls in a match, the goal difference of two teams to name a few examples. We can plot scatter graphs to compare different attributes as shown below."
   ]
  },
  {
   "cell_type": "code",
   "execution_count": 11,
   "id": "ba92543c",
   "metadata": {},
   "outputs": [
    {
     "data": {
      "text/plain": [
       "<AxesSubplot:xlabel='FullTimeHomeGoals', ylabel='AverageHomeWinOdds'>"
      ]
     },
     "execution_count": 11,
     "metadata": {},
     "output_type": "execute_result"
    },
    {
     "data": {
      "image/png": "[encoded data removed]",
      "text/plain": [
       "<Figure size 432x288 with 1 Axes>"
      ]
     },
     "metadata": {
      "needs_background": "light"
     },
     "output_type": "display_data"
    }
   ],
   "source": [
    "football.plot(kind=\"scatter\", x = \"FullTimeHomeGoals\", y = \"AverageHomeWinOdds\", alpha = 0.5)"
   ]
  },
  {
   "cell_type": "markdown",
   "id": "87fd3361",
   "metadata": {},
   "source": [
    "This graph plots the pre-match home team's odds of winning versus the number of goals that they scored. From the scatter graph, we can see a negative corralation between the Home win odds and the number of goals that the home team scored. That is, the lower the odds pre-match (The more likely a team was to win), the more likely they were to score more goals. We can see that only teams with pre-match odds of less than 5 scored more than 5 goals in the match. "
   ]
  },
  {
   "cell_type": "code",
   "execution_count": 12,
   "id": "376607dc",
   "metadata": {},
   "outputs": [
    {
     "data": {
      "text/plain": [
       "<AxesSubplot:xlabel='AwayRedCards', ylabel='FullTimeHomeGoals'>"
      ]
     },
     "execution_count": 12,
     "metadata": {},
     "output_type": "execute_result"
    },
    {
     "data": {
      "image/png": "[encoded data removed]",
      "text/plain": [
       "<Figure size 432x288 with 1 Axes>"
      ]
     },
     "metadata": {
      "needs_background": "light"
     },
     "output_type": "display_data"
    }
   ],
   "source": [
    "football.plot(kind=\"scatter\", x = \"AwayRedCards\", y = \"FullTimeHomeGoals\", alpha = 0.5)\n"
   ]
  },
  {
   "cell_type": "markdown",
   "id": "fc81f9f3",
   "metadata": {},
   "source": [
    "The above scatter plot shows the number of red cards the away team gets against the number of goals the home team scores. We can see from this data that the more red cards the team gets, the more likely they are to concede. For teams that receive 2 or more red cards, they always conceded."
   ]
  },
  {
   "cell_type": "code",
   "execution_count": 13,
   "id": "e2f73a80",
   "metadata": {},
   "outputs": [],
   "source": [
    "corr_matrix = football.corr()"
   ]
  },
  {
   "cell_type": "code",
   "execution_count": 14,
   "id": "7ea66d6c",
   "metadata": {},
   "outputs": [
    {
     "data": {
      "text/plain": [
       "AverageHomeWinOdds        1.000000\n",
       "AwayGoalDiff              0.578183\n",
       "YCDiff                    0.389418\n",
       "FoulsDiff                 0.381308\n",
       "AwayShots                 0.350124\n",
       "AwayPoints                0.328566\n",
       "AwaySeasonScore           0.289579\n",
       "AwayShotsOnGoal           0.288560\n",
       "AwaySeasonGoals           0.282085\n",
       "FullTimeAwayGoals         0.257444\n",
       "AwayCorners               0.225739\n",
       "AwaySeasonGoalShots       0.209765\n",
       "HalfTimeAwayGoals         0.176891\n",
       "RCDiff                    0.174747\n",
       "AwaySeasonCorners         0.162492\n",
       "AwaySeasonShots           0.153105\n",
       "AverageDrawOdds           0.102121\n",
       "HomeSeasonGoalsAgainst    0.089368\n",
       "HomeYellowCards           0.076186\n",
       "HomeFouls                 0.050810\n",
       "HomeSeasonYC              0.042813\n",
       "HomeSeasonRC              0.033482\n",
       "HomeRedCards              0.015538\n",
       "HomeSeasonFouls           0.014189\n",
       "GameDay                  -0.013742\n",
       "AwayRedCards             -0.056948\n",
       "HomeSeasonCorners        -0.081646\n",
       "HomeSeasonShots          -0.083837\n",
       "AwaySeasonFouls          -0.110019\n",
       "HomeSeasonGoalShots      -0.112318\n",
       "AwayYellowCards          -0.123708\n",
       "AwayFouls                -0.130732\n",
       "HomeSeasonGoals          -0.151698\n",
       "AwaySeasonYC             -0.155271\n",
       "HomeSeasonScore          -0.160456\n",
       "AwaySeasonRC             -0.164954\n",
       "HalfTimeHomeGoals        -0.188691\n",
       "AwaySeasonGoalsAgainst   -0.226646\n",
       "FullTimeHomeGoals        -0.266192\n",
       "HomeCorners              -0.267577\n",
       "HomeGoalDiff             -0.275596\n",
       "HomePoints               -0.306834\n",
       "HomeShotsOnGoal          -0.336095\n",
       "HomeShots                -0.376794\n",
       "AverageAwayWinOdds       -0.399874\n",
       "CornersDiff              -0.482527\n",
       "ShotDiff                 -0.528296\n",
       "GoalShotDiff             -0.561415\n",
       "SeasonScoreDiff          -0.573700\n",
       "GoalDiffDiff             -0.601865\n",
       "Name: AverageHomeWinOdds, dtype: float64"
      ]
     },
     "execution_count": 14,
     "metadata": {},
     "output_type": "execute_result"
    }
   ],
   "source": [
    "corr_matrix[\"AverageHomeWinOdds\"].sort_values(ascending=False)"
   ]
  },
  {
   "cell_type": "markdown",
   "id": "a01d76b8",
   "metadata": {},
   "source": [
    "Using the corr() function we can determine Pearson's R between one attribute against all the other attributes in the dataset. For example, corr() function of the home teams pre match odds has a positive moderate correlation between the attribute away goals different (this is the goal difference of the away team). This is expected as the worse an away teams goal difference is the more likely they are to concede more goals than they score and therefore more likely to lose. There is also a moderate negative correlation between this and the goal difference difference (this is a similar attribute which is the difference between the home teams and away teams goal difference). We can also see there is almost no correlation between the match odds attribute and the match week which is also expected."
   ]
  },
  {
   "cell_type": "markdown",
   "id": "d5dc4290",
   "metadata": {},
   "source": [
    "# Preparing data for ML"
   ]
  },
  {
   "cell_type": "markdown",
   "id": "7192ed41",
   "metadata": {},
   "source": [
    "1) We will remove any records in the dataset which contain any blank fields. We will drop the date column as this is not needed."
   ]
  },
  {
   "cell_type": "code",
   "execution_count": 15,
   "id": "257410c9",
   "metadata": {},
   "outputs": [],
   "source": [
    "football = football.dropna(how='any',axis=0) \n",
    "# Drop any rows where there is a null value\n",
    "football = football.drop('Date',1)"
   ]
  },
  {
   "cell_type": "markdown",
   "id": "c8008035",
   "metadata": {},
   "source": [
    "2) Convert categorical values into numbers using OrdinalEncoder from scikit learn. This will convert both the team names and the match result categorial values into numbers."
   ]
  },
  {
   "cell_type": "code",
   "execution_count": 16,
   "id": "6ea76ddd",
   "metadata": {},
   "outputs": [],
   "source": [
    "from sklearn.preprocessing import OrdinalEncoder"
   ]
  },
  {
   "cell_type": "code",
   "execution_count": 17,
   "id": "202a96ee",
   "metadata": {},
   "outputs": [],
   "source": [
    "\n",
    "dataset_encoder = OrdinalEncoder()\n",
    "dataset_encoder.fit(football[[\"HomeTeam\",\"AwayTeam\",\"HalfTimeResult\",\"FullTimeResult\"]])\n",
    "football[[\"HomeTeam\",\"AwayTeam\",\"HalfTimeResult\",\"FullTimeResult\"]] = dataset_encoder.transform(football[[\"HomeTeam\",\"AwayTeam\",\"HalfTimeResult\",\"FullTimeResult\"]])\n"
   ]
  },
  {
   "cell_type": "markdown",
   "id": "76f2ea9f",
   "metadata": {},
   "source": [
    "3) We will remove any negative values from our dataset by using the abs() function."
   ]
  },
  {
   "cell_type": "code",
   "execution_count": 18,
   "id": "080cf728",
   "metadata": {},
   "outputs": [],
   "source": [
    "football = football.abs()\n",
    "football_non_shuffled = football"
   ]
  },
  {
   "cell_type": "markdown",
   "id": "8902829b",
   "metadata": {},
   "source": [
    "4) We will shuffle the dataset to randomise the data and to prevent systemic correlation within the data"
   ]
  },
  {
   "cell_type": "code",
   "execution_count": 19,
   "id": "b24618ed",
   "metadata": {},
   "outputs": [],
   "source": [
    "football = football.sample(frac = 1)"
   ]
  },
  {
   "cell_type": "markdown",
   "id": "cf141e5b",
   "metadata": {},
   "source": [
    "5) We will split the dataset into a training set and a testing set using the sklearn function train_test_split with the training data constituting 80% of the data with the remaining 20% being used for testing."
   ]
  },
  {
   "cell_type": "code",
   "execution_count": 20,
   "id": "e14889fe",
   "metadata": {},
   "outputs": [],
   "source": [
    "from sklearn.model_selection import train_test_split\n",
    "train, test = train_test_split(football, test_size = 0.2)"
   ]
  },
  {
   "cell_type": "markdown",
   "id": "a5ef9091",
   "metadata": {},
   "source": [
    "# Naive Bayes Classifier\n"
   ]
  },
  {
   "cell_type": "markdown",
   "id": "73fef7ca",
   "metadata": {},
   "source": [
    "We can now run Naive Bayes Classifier on the complete data set "
   ]
  },
  {
   "cell_type": "code",
   "execution_count": 21,
   "id": "ac95315b",
   "metadata": {},
   "outputs": [
    {
     "data": {
      "text/plain": [
       "MultinomialNB()"
      ]
     },
     "execution_count": 21,
     "metadata": {},
     "output_type": "execute_result"
    }
   ],
   "source": [
    "from sklearn.naive_bayes import MultinomialNB\n",
    "model = MultinomialNB()\n",
    "model.fit(train.to_numpy(),train[\"FullTimeResult\"])"
   ]
  },
  {
   "cell_type": "code",
   "execution_count": 22,
   "id": "9808d618",
   "metadata": {},
   "outputs": [],
   "source": [
    "labels = model.predict(test)"
   ]
  },
  {
   "cell_type": "markdown",
   "id": "e69ac173",
   "metadata": {},
   "source": [
    "# Analysis of Naive Bayes"
   ]
  },
  {
   "cell_type": "code",
   "execution_count": 23,
   "id": "ce835c73",
   "metadata": {},
   "outputs": [
    {
     "data": {
      "text/plain": [
       "array([[ 89,  65,   2],\n",
       "       [  6,  98,  11],\n",
       "       [  3,  81, 135]], dtype=int64)"
      ]
     },
     "execution_count": 23,
     "metadata": {},
     "output_type": "execute_result"
    }
   ],
   "source": [
    "from sklearn.metrics import confusion_matrix\n",
    "confusion_matrix(test[\"FullTimeResult\"], labels)\n"
   ]
  },
  {
   "cell_type": "markdown",
   "id": "24dfa20a",
   "metadata": {},
   "source": [
    "As we can see from the confusion matrix, the diagonals are the number of correct predictions which total 300 out of a total of 490 which gives this an accuracy (success rate) of 61%.\n",
    "We can then use the classification_report function that sklearn provides to find the precision and recall of each classification(Home Win(class 0), Draw(class 1) and Away Win(class 2))\n"
   ]
  },
  {
   "cell_type": "code",
   "execution_count": 24,
   "id": "9c1fbe8f",
   "metadata": {},
   "outputs": [
    {
     "name": "stdout",
     "output_type": "stream",
     "text": [
      "              precision    recall  f1-score   support\n",
      "\n",
      "     class 0       0.91      0.57      0.70       156\n",
      "     class 1       0.40      0.85      0.55       115\n",
      "     class 2       0.91      0.62      0.74       219\n",
      "\n",
      "    accuracy                           0.66       490\n",
      "   macro avg       0.74      0.68      0.66       490\n",
      "weighted avg       0.79      0.66      0.68       490\n",
      "\n"
     ]
    }
   ],
   "source": [
    "from sklearn.metrics import classification_report\n",
    "print(classification_report(test[\"FullTimeResult\"],labels,target_names = ['class 0', 'class 1', 'class 2']))"
   ]
  },
  {
   "cell_type": "markdown",
   "id": "ab07cf72",
   "metadata": {},
   "source": [
    "The precision and recall for Home Wins are 0.80% and 0.47% respectively and the F-measure is therefore 0.59%\n",
    "<br>\n",
    "The precision and recall for Draws are 0.37% and 0.78% respectively and the F-measure is therefore 0.50%\n",
    "<br>\n",
    "The precision and recall for Away Wins are 0.91% and 0.62% respectively and the F-measure is therefore 0.74%\n",
    "<br>\n",
    "Overall, running Naive Bayes classifier on the complete dataset yields a respectable accuracy with a greater accuracy in correctly classifying home wins and away wins than draws."
   ]
  },
  {
   "cell_type": "markdown",
   "id": "0762f1a5",
   "metadata": {},
   "source": [
    "# Creating 3 data sets of correlating features"
   ]
  },
  {
   "cell_type": "markdown",
   "id": "8f68a2ae",
   "metadata": {},
   "source": [
    "We can find the most correlating features by once again using the correlation matrix function"
   ]
  },
  {
   "cell_type": "code",
   "execution_count": 25,
   "id": "8482cc3b",
   "metadata": {},
   "outputs": [],
   "source": [
    "corr_matrix = football.corr()"
   ]
  },
  {
   "cell_type": "code",
   "execution_count": 26,
   "id": "e0da5fab",
   "metadata": {},
   "outputs": [
    {
     "data": {
      "text/plain": [
       "FullTimeResult            1.000000\n",
       "HomePoints                0.986735\n",
       "FullTimeHomeGoals         0.634105\n",
       "HalfTimeResult            0.607908\n",
       "HalfTimeHomeGoals         0.427371\n",
       "HomeShotsOnGoal           0.392423\n",
       "AverageAwayWinOdds        0.284389\n",
       "HomeShots                 0.209825\n",
       "AverageDrawOdds           0.137248\n",
       "HomeSeasonScore           0.116663\n",
       "HomeSeasonGoals           0.115211\n",
       "HomeGoalDiff              0.102450\n",
       "AwayRedCards              0.101754\n",
       "AwaySeasonGoalsAgainst    0.095905\n",
       "HomeSeasonGoalShots       0.082002\n",
       "AwaySeasonRC              0.080505\n",
       "AwaySeasonYC              0.069608\n",
       "AwayTeam                  0.065488\n",
       "AwayYellowCards           0.061825\n",
       "HomeSeasonShots           0.059249\n",
       "HomeSeasonCorners         0.051549\n",
       "AwaySeasonFouls           0.034816\n",
       "HomeCorners               0.026505\n",
       "GameDay                   0.005186\n",
       "AwayFouls                -0.002928\n",
       "RCDiff                   -0.006812\n",
       "YCDiff                   -0.009518\n",
       "GoalShotDiff             -0.011949\n",
       "CornersDiff              -0.021955\n",
       "HomeSeasonFouls          -0.023052\n",
       "ShotDiff                 -0.025428\n",
       "FoulsDiff                -0.029746\n",
       "HomeTeam                 -0.035359\n",
       "SeasonScoreDiff          -0.036205\n",
       "GoalDiffDiff             -0.036909\n",
       "HomeSeasonYC             -0.040767\n",
       "AwayCorners              -0.042448\n",
       "HomeSeasonRC             -0.052665\n",
       "AwaySeasonCorners        -0.061766\n",
       "AwaySeasonShots          -0.065532\n",
       "HomeSeasonGoalsAgainst   -0.065658\n",
       "HomeFouls                -0.074778\n",
       "AwaySeasonGoalShots      -0.092176\n",
       "HomeYellowCards          -0.104702\n",
       "AwaySeasonGoals          -0.110315\n",
       "AwaySeasonScore          -0.115481\n",
       "AwayGoalDiff             -0.136272\n",
       "HomeRedCards             -0.148133\n",
       "AwayShots                -0.240683\n",
       "AverageHomeWinOdds       -0.321933\n",
       "AwayShotsOnGoal          -0.397265\n",
       "HalfTimeAwayGoals        -0.439849\n",
       "FullTimeAwayGoals        -0.649145\n",
       "AwayPoints               -0.985743\n",
       "Name: FullTimeResult, dtype: float64"
      ]
     },
     "execution_count": 26,
     "metadata": {},
     "output_type": "execute_result"
    }
   ],
   "source": [
    "corr_matrix[\"FullTimeResult\"].sort_values(ascending=False)"
   ]
  },
  {
   "cell_type": "code",
   "execution_count": 27,
   "id": "7646bee3",
   "metadata": {},
   "outputs": [],
   "source": [
    "football_set1 = football[[\"FullTimeResult\",\"HomePoints\",\"AwayPoints\",\"HalfTimeResult\",\"HalfTimeHomeGoals\",\"HalfTimeAwayGoals\"]]\n",
    "football_set2 = football[[\"FullTimeResult\",\"HomePoints\",\"AwayPoints\",\"HalfTimeResult\",\"HalfTimeHomeGoals\",\"HalfTimeAwayGoals\",\"HomeShotsOnGoal\",\"AwayShotsOnGoal\",\"HomeShots\",\"AwayShots\"]]\n",
    "football_set3 = football[[\"FullTimeResult\",\"HomePoints\",\"AwayPoints\",\"HalfTimeResult\",\"HalfTimeHomeGoals\",\"HalfTimeAwayGoals\",\"HomeShotsOnGoal\",\"AwayShotsOnGoal\",\"HomeShots\",\"AwayShots\",\"AverageHomeWinOdds\",\"AverageAwayWinOdds\",\"HomeShots\",\"AwayShots\",\"AverageDrawOdds\"]]\n"
   ]
  },
  {
   "cell_type": "code",
   "execution_count": 28,
   "id": "1f3d3a87",
   "metadata": {},
   "outputs": [],
   "source": [
    "#Splitting the new data sets into training and testing sets\n",
    "\n",
    "train_set1, test_set1 = train_test_split(football_set1, test_size = 0.2)\n",
    "train_set2, test_set2 = train_test_split(football_set2, test_size = 0.2)\n",
    "train_set3, test_set3 = train_test_split(football_set3, test_size = 0.2)"
   ]
  },
  {
   "cell_type": "markdown",
   "id": "0aaa055d",
   "metadata": {},
   "source": [
    "# Running Naive Bayes on the new datasets"
   ]
  },
  {
   "cell_type": "code",
   "execution_count": 29,
   "id": "fc5f5f45",
   "metadata": {},
   "outputs": [
    {
     "data": {
      "text/plain": [
       "MultinomialNB()"
      ]
     },
     "execution_count": 29,
     "metadata": {},
     "output_type": "execute_result"
    }
   ],
   "source": [
    "model_set1 = MultinomialNB()\n",
    "model_set1.fit(train_set1,train_set1[\"FullTimeResult\"])\n",
    "\n",
    "model_set2 = MultinomialNB()\n",
    "model_set2.fit(train_set2,train_set2[\"FullTimeResult\"])\n",
    "\n",
    "model_set3 = MultinomialNB()\n",
    "model_set3.fit(train_set3,train_set3[\"FullTimeResult\"])"
   ]
  },
  {
   "cell_type": "code",
   "execution_count": 30,
   "id": "badd58f7",
   "metadata": {},
   "outputs": [],
   "source": [
    "labels_set1 = model_set1.predict(test_set1)\n",
    "labels_set2 = model_set2.predict(test_set2)\n",
    "labels_set3 = model_set3.predict(test_set3)"
   ]
  },
  {
   "cell_type": "markdown",
   "id": "e63c9367",
   "metadata": {},
   "source": [
    "# Analysis of Naive Bayes on the new datasets"
   ]
  },
  {
   "cell_type": "code",
   "execution_count": 31,
   "id": "e75bc9ee",
   "metadata": {},
   "outputs": [
    {
     "name": "stdout",
     "output_type": "stream",
     "text": [
      "[[158   0   0]\n",
      " [  0 117   0]\n",
      " [  0   0 215]]\n",
      "              precision    recall  f1-score   support\n",
      "\n",
      "     class 0       1.00      1.00      1.00       158\n",
      "     class 1       1.00      1.00      1.00       117\n",
      "     class 2       1.00      1.00      1.00       215\n",
      "\n",
      "    accuracy                           1.00       490\n",
      "   macro avg       1.00      1.00      1.00       490\n",
      "weighted avg       1.00      1.00      1.00       490\n",
      "\n"
     ]
    }
   ],
   "source": [
    "print(confusion_matrix(test_set1[\"FullTimeResult\"], labels_set1))\n",
    "print(classification_report(test_set1[\"FullTimeResult\"],labels_set1,target_names = ['class 0', 'class 1', 'class 2']))"
   ]
  },
  {
   "cell_type": "code",
   "execution_count": 32,
   "id": "c604b85f",
   "metadata": {},
   "outputs": [
    {
     "name": "stdout",
     "output_type": "stream",
     "text": [
      "[[131   2   0]\n",
      " [  0 114   0]\n",
      " [  0   4 239]]\n",
      "              precision    recall  f1-score   support\n",
      "\n",
      "     class 0       1.00      0.98      0.99       133\n",
      "     class 1       0.95      1.00      0.97       114\n",
      "     class 2       1.00      0.98      0.99       243\n",
      "\n",
      "    accuracy                           0.99       490\n",
      "   macro avg       0.98      0.99      0.99       490\n",
      "weighted avg       0.99      0.99      0.99       490\n",
      "\n"
     ]
    }
   ],
   "source": [
    "print(confusion_matrix(test_set2[\"FullTimeResult\"], labels_set2))\n",
    "print(classification_report(test_set2[\"FullTimeResult\"],labels_set2,target_names = ['class 0', 'class 1', 'class 2']))"
   ]
  },
  {
   "cell_type": "code",
   "execution_count": 33,
   "id": "cfb1bbae",
   "metadata": {},
   "outputs": [
    {
     "name": "stdout",
     "output_type": "stream",
     "text": [
      "[[135  17   0]\n",
      " [  0 117   6]\n",
      " [  0  19 196]]\n",
      "              precision    recall  f1-score   support\n",
      "\n",
      "     class 0       1.00      0.89      0.94       152\n",
      "     class 1       0.76      0.95      0.85       123\n",
      "     class 2       0.97      0.91      0.94       215\n",
      "\n",
      "    accuracy                           0.91       490\n",
      "   macro avg       0.91      0.92      0.91       490\n",
      "weighted avg       0.93      0.91      0.92       490\n",
      "\n"
     ]
    }
   ],
   "source": [
    "print(confusion_matrix(test_set3[\"FullTimeResult\"], labels_set3))\n",
    "print(classification_report(test_set3[\"FullTimeResult\"],labels_set3,target_names = ['class 0', 'class 1', 'class 2']))"
   ]
  },
  {
   "cell_type": "markdown",
   "id": "ee643fdd",
   "metadata": {},
   "source": [
    "The main conclusion that we can make from the naive bayes classifier on the new datasets is that the smaller the number of attributes used, the greater the precision and recall and subsequently the F-measure.\n",
    "<br>\n",
    "<br>\n",
    "Comparing these three datasets with the full dataset, there is a clear correlation between the number of attributes on the accuracy(success rate) with the full set having an accuracy of 62% with a greater accuracy for the smaller data sets with dataset 3 having an accuracy of 94%, dataset 2 with accuracy of 98% and dataset1 (fewest attributes) having an accuracy of 100%. This was a surprising result as I did not expect having less attributes in the dataset having such a profound effect on the results of running Naive Bayes on the datasets. \n",
    "<br>\n",
    "<br>\n",
    "The use of fewer attributes reduces the amount of \"noisy\" data which may have affected the classifier and given an incorrect result.\n",
    "\n"
   ]
  },
  {
   "cell_type": "markdown",
   "id": "d413a4ef",
   "metadata": {},
   "source": [
    "# Conclusion\n",
    "<br>\n",
    "Overall, the Naive Bayes classifier was able to distinguish classes very well once only the most relevant attributes were selected. However, this is a simple data set, where the classification attribute has only 3 classes and is therefore likely to have a higher accuracy when running Naive Bayes classifier compared to a dataset with more classes. \n"
   ]
  },
  {
   "cell_type": "markdown",
   "id": "dddc1689",
   "metadata": {},
   "source": [
    "# Part 2 : Clustering\n"
   ]
  },
  {
   "cell_type": "markdown",
   "id": "07708551",
   "metadata": {},
   "source": [
    "1) import K-means and make_blobs functions"
   ]
  },
  {
   "cell_type": "code",
   "execution_count": 34,
   "id": "543c3735",
   "metadata": {},
   "outputs": [],
   "source": [
    "from sklearn.cluster import KMeans\n",
    "from sklearn.datasets import make_blobs"
   ]
  },
  {
   "cell_type": "markdown",
   "id": "c196ab8e",
   "metadata": {},
   "source": [
    "2) Create blobs from fields in the dataset"
   ]
  },
  {
   "cell_type": "code",
   "execution_count": 35,
   "id": "ef987ecf",
   "metadata": {},
   "outputs": [],
   "source": [
    "blob_centers = np.array([[football[\"FullTimeHomeGoals\"][0],football [\"FullTimeAwayGoals\"][0]],\n",
    "                        [football[\"FullTimeHomeGoals\"][1],football [\"FullTimeAwayGoals\"][1]],\n",
    "                        [football[\"FullTimeHomeGoals\"][2],football [\"FullTimeAwayGoals\"][3]],\n",
    "                        [football[\"FullTimeHomeGoals\"][3],football [\"FullTimeAwayGoals\"][4]]])\n",
    "blob_std = np.array([0.2,0.2,0.2,0.2])"
   ]
  },
  {
   "cell_type": "code",
   "execution_count": 36,
   "id": "7137dd35",
   "metadata": {},
   "outputs": [
    {
     "name": "stdout",
     "output_type": "stream",
     "text": [
      "[[3 1]\n",
      " [2 2]\n",
      " [0 1]\n",
      " [2 1]]\n"
     ]
    }
   ],
   "source": [
    "print(blob_centers)"
   ]
  },
  {
   "cell_type": "markdown",
   "id": "963c3b1c",
   "metadata": {},
   "source": [
    "3) create blobs and plot into scatter graph"
   ]
  },
  {
   "cell_type": "code",
   "execution_count": 37,
   "id": "c3a171fe",
   "metadata": {},
   "outputs": [],
   "source": [
    "X, y = make_blobs(n_samples=2000, centers=blob_centers,\n",
    "                  cluster_std=blob_std, random_state=7)"
   ]
  },
  {
   "cell_type": "code",
   "execution_count": 38,
   "id": "a2f33500",
   "metadata": {},
   "outputs": [],
   "source": [
    "def plot_clusters(X, y=None):\n",
    "    plt.scatter(X[:, 0], X[:, 1], c=y, s=1)\n",
    "    plt.xlabel(\"$x_1$\", fontsize=14)\n",
    "    plt.ylabel(\"$x_2$\", fontsize=14, rotation=0)"
   ]
  },
  {
   "cell_type": "code",
   "execution_count": 39,
   "id": "33f1a5e4",
   "metadata": {},
   "outputs": [
    {
     "data": {
      "image/png": "[encoded data removed]",
      "text/plain": [
       "<Figure size 576x288 with 1 Axes>"
      ]
     },
     "metadata": {
      "needs_background": "light"
     },
     "output_type": "display_data"
    }
   ],
   "source": [
    "plt.figure(figsize=(8, 4))\n",
    "plot_clusters(X)\n",
    "plt.show()"
   ]
  },
  {
   "cell_type": "markdown",
   "id": "4a6257e1",
   "metadata": {},
   "source": [
    "4) Run the k-means cluster algorithm to classify data into four separate clusters. We do not need to use an algorithm to determine the best value for K here as it is obvious."
   ]
  },
  {
   "cell_type": "code",
   "execution_count": 40,
   "id": "3581a35d",
   "metadata": {},
   "outputs": [],
   "source": [
    "k = 4\n",
    "kmeans = KMeans(n_clusters=k, random_state=42)\n",
    "y_pred = kmeans.fit_predict(X)"
   ]
  },
  {
   "cell_type": "code",
   "execution_count": 41,
   "id": "30c3114e",
   "metadata": {},
   "outputs": [
    {
     "data": {
      "text/plain": [
       "array([[ 3.00289703,  0.98565417],\n",
       "       [-0.00406179,  1.0090585 ],\n",
       "       [ 1.99698067,  1.98739217],\n",
       "       [ 1.99817085,  0.99804156]])"
      ]
     },
     "execution_count": 41,
     "metadata": {},
     "output_type": "execute_result"
    }
   ],
   "source": [
    "kmeans.cluster_centers_"
   ]
  },
  {
   "cell_type": "code",
   "execution_count": 42,
   "id": "3f5ee880",
   "metadata": {},
   "outputs": [],
   "source": [
    "def plot_data(X):\n",
    "    plt.plot(X[:, 0], X[:, 1], 'k.', markersize=2)\n",
    "\n",
    "def plot_centroids(centroids, weights=None, circle_color='w', cross_color='k'):\n",
    "    if weights is not None:\n",
    "        centroids = centroids[weights > weights.max() / 10]\n",
    "    plt.scatter(centroids[:, 0], centroids[:, 1],\n",
    "                marker='o', s=30, linewidths=8,\n",
    "                color=circle_color, zorder=10, alpha=0.9)\n",
    "    plt.scatter(centroids[:, 0], centroids[:, 1],\n",
    "                marker='x', s=50, linewidths=50,\n",
    "                color=cross_color, zorder=11, alpha=1)\n",
    "\n",
    "def plot_decision_boundaries(clusterer, X, resolution=1000, show_centroids=True,\n",
    "                             show_xlabels=True, show_ylabels=True):\n",
    "    mins = X.min(axis=0) - 0.1\n",
    "    maxs = X.max(axis=0) + 0.1\n",
    "    xx, yy = np.meshgrid(np.linspace(mins[0], maxs[0], resolution),\n",
    "                         np.linspace(mins[1], maxs[1], resolution))\n",
    "    Z = clusterer.predict(np.c_[xx.ravel(), yy.ravel()])\n",
    "    Z = Z.reshape(xx.shape)\n",
    "\n",
    "    plt.contourf(Z, extent=(mins[0], maxs[0], mins[1], maxs[1]),\n",
    "                cmap=\"Pastel2\")\n",
    "    plt.contour(Z, extent=(mins[0], maxs[0], mins[1], maxs[1]),\n",
    "                linewidths=1, colors='k')\n",
    "    plot_data(X)\n",
    "    if show_centroids:\n",
    "        plot_centroids(clusterer.cluster_centers_)\n",
    "\n",
    "    if show_xlabels:\n",
    "        plt.xlabel(\"$x_1$\", fontsize=14)\n",
    "    else:\n",
    "        plt.tick_params(labelbottom=False)\n",
    "    if show_ylabels:\n",
    "        plt.ylabel(\"$x_2$\", fontsize=14, rotation=0)\n",
    "    else:\n",
    "        plt.tick_params(labelleft=False)"
   ]
  },
  {
   "cell_type": "code",
   "execution_count": 43,
   "id": "c4051796",
   "metadata": {},
   "outputs": [
    {
     "data": {
      "image/png": "[encoded data removed]",
      "text/plain": [
       "<Figure size 576x288 with 1 Axes>"
      ]
     },
     "metadata": {
      "needs_background": "light"
     },
     "output_type": "display_data"
    }
   ],
   "source": [
    "plt.figure(figsize=(8, 4))\n",
    "plot_decision_boundaries(kmeans, X)\n",
    "plt.show()"
   ]
  },
  {
   "cell_type": "markdown",
   "id": "b3c2d6cb",
   "metadata": {},
   "source": [
    "As you can see, the clustering algorithm works well on this example, with basically all of the points in their correct clusters, so the overall accuracy of this clustering is high. However, this is just a simple example with 4 data points used in total, so this is expected."
   ]
  },
  {
   "cell_type": "markdown",
   "id": "fb476107",
   "metadata": {},
   "source": [
    "# A more advanced clustering example"
   ]
  },
  {
   "cell_type": "markdown",
   "id": "73f5fedb",
   "metadata": {},
   "source": [
    "We will plot clusters with the X-axis being the Home corners and the Y-axis being the Away corners attributes from the dataset."
   ]
  },
  {
   "cell_type": "code",
   "execution_count": 44,
   "id": "596de9a8",
   "metadata": {},
   "outputs": [],
   "source": [
    "blob_centers = football[['HomeCorners','AwayCorners']].to_numpy() # Convert to a numpy array where the x-coordinate is the home corners\n",
    "blob_std = np.full((2448,2), 0.2) # Let the deviation for each blob to be 0.2\n"
   ]
  },
  {
   "cell_type": "code",
   "execution_count": 45,
   "id": "3ad65d0c",
   "metadata": {},
   "outputs": [
    {
     "name": "stdout",
     "output_type": "stream",
     "text": [
      "[[4 4]\n",
      " [4 3]\n",
      " [2 4]\n",
      " ...\n",
      " [9 5]\n",
      " [5 4]\n",
      " [3 4]]\n"
     ]
    }
   ],
   "source": [
    "print(blob_centers)"
   ]
  },
  {
   "cell_type": "code",
   "execution_count": 46,
   "id": "9f9456c7",
   "metadata": {},
   "outputs": [
    {
     "name": "stdout",
     "output_type": "stream",
     "text": [
      "[[0.2 0.2]\n",
      " [0.2 0.2]\n",
      " [0.2 0.2]\n",
      " ...\n",
      " [0.2 0.2]\n",
      " [0.2 0.2]\n",
      " [0.2 0.2]]\n"
     ]
    }
   ],
   "source": [
    "print(blob_std)"
   ]
  },
  {
   "cell_type": "code",
   "execution_count": 47,
   "id": "cb8c0411",
   "metadata": {},
   "outputs": [],
   "source": [
    "X, y = make_blobs(n_samples=2000, centers=blob_centers,\n",
    "                  cluster_std=blob_std, random_state=7)"
   ]
  },
  {
   "cell_type": "code",
   "execution_count": 48,
   "id": "db58abc2",
   "metadata": {},
   "outputs": [
    {
     "data": {
      "image/png": "[encoded data removed]",
      "text/plain": [
       "<Figure size 576x288 with 1 Axes>"
      ]
     },
     "metadata": {
      "needs_background": "light"
     },
     "output_type": "display_data"
    }
   ],
   "source": [
    "plt.figure(figsize=(8, 4))\n",
    "plot_clusters(X)\n",
    "plt.show()"
   ]
  },
  {
   "cell_type": "markdown",
   "id": "42842b38",
   "metadata": {},
   "source": [
    "When we use fields from the dataset, we can see that lots of smaller clusters are formed.\n",
    "This is because the fields we are using contain a fixed numerical value and the more of this value appears in the dataset, the larger the resultant cluster. We could increase the spread of each cluster by increasing the deviation value assigned for each."
   ]
  },
  {
   "cell_type": "code",
   "execution_count": 49,
   "id": "4cf99eb0",
   "metadata": {},
   "outputs": [],
   "source": [
    "k = 3\n",
    "kmeans = KMeans(n_clusters=k, random_state=42)\n",
    "y_pred = kmeans.fit_predict(X)"
   ]
  },
  {
   "cell_type": "code",
   "execution_count": 50,
   "id": "bdcf75cf",
   "metadata": {},
   "outputs": [
    {
     "data": {
      "text/plain": [
       "array([[3.88209633, 3.1495243 ],\n",
       "       [8.95957993, 3.28941417],\n",
       "       [3.87401085, 7.49742622]])"
      ]
     },
     "execution_count": 50,
     "metadata": {},
     "output_type": "execute_result"
    }
   ],
   "source": [
    "kmeans.cluster_centers_"
   ]
  },
  {
   "cell_type": "code",
   "execution_count": 51,
   "id": "b000306c",
   "metadata": {},
   "outputs": [
    {
     "data": {
      "image/png": "[encoded data removed]",
      "text/plain": [
       "<Figure size 576x288 with 1 Axes>"
      ]
     },
     "metadata": {
      "needs_background": "light"
     },
     "output_type": "display_data"
    }
   ],
   "source": [
    "plt.figure(figsize=(8, 4))\n",
    "plot_decision_boundaries(kmeans, X)\n",
    "plt.show()"
   ]
  },
  {
   "cell_type": "markdown",
   "id": "6f3875ab",
   "metadata": {},
   "source": [
    "When we repeat it using complete fields from the dataset, we can see the clustering algorithm still works fairly well but not as well as when the values were more distinct like in the first example. "
   ]
  },
  {
   "cell_type": "markdown",
   "id": "62912918",
   "metadata": {},
   "source": [
    "With the above example, it is a lot harder to find the optimal number of clusters within a dataset (compared to the first example) and it would be preferable to use an algorithm that computes this. We can use the Elbow curve graph to determine the best value for K. This computes k means for k values between 2 and 10 and the sum of the square distances between the points and the centre of the clusters. \n"
   ]
  },
  {
   "cell_type": "code",
   "execution_count": 52,
   "id": "e6c2b31b",
   "metadata": {},
   "outputs": [
    {
     "data": {
      "text/plain": [
       "Text(0.5, 1.0, 'Elbow curve')"
      ]
     },
     "execution_count": 52,
     "metadata": {},
     "output_type": "execute_result"
    },
    {
     "data": {
      "image/png": "[encoded data removed]",
      "text/plain": [
       "<Figure size 1080x360 with 1 Axes>"
      ]
     },
     "metadata": {
      "needs_background": "light"
     },
     "output_type": "display_data"
    }
   ],
   "source": [
    "\n",
    "distorsions = []\n",
    "for k in range(2, 10):\n",
    "    kmeans = KMeans(n_clusters=k)\n",
    "    kmeans.fit(X)\n",
    "    distorsions.append(kmeans.inertia_)\n",
    "\n",
    "fig = plt.figure(figsize=(15, 5))\n",
    "plt.plot(range(2, 10), distorsions)\n",
    "plt.grid(True)\n",
    "plt.xlabel(\"K value\")\n",
    "plt.ylabel(\"Sum of square distances\")\n",
    "plt.title('Elbow curve')"
   ]
  },
  {
   "cell_type": "markdown",
   "id": "44dfb6bb",
   "metadata": {},
   "source": [
    "As you can see from the above graph, the optimal value for the second example is 3.\n",
    "With the optimal value picked, the accuracy of the clustering is increased."
   ]
  },
  {
   "cell_type": "markdown",
   "id": "fc4a9079",
   "metadata": {},
   "source": [
    "# Comparison with Naive Bayes"
   ]
  },
  {
   "cell_type": "markdown",
   "id": "a1e8a47b",
   "metadata": {},
   "source": [
    "On this dataset, Naive Bayes was a good classifier due to the nature of the dataset used, with a fairly high recall, precision and subsequent F score, when the appropriate fields were selected. While the k means clustering algorithm worked well when only a few points were selected, it does not work as well when whole fields are used. This is again likely due to the nature of the dataset, with most fields having predictable values, making strong clusters unlikely to appear in the dataset. I did not have time to try all the different fields to find the best attributes that produced clear clusters. "
   ]
  },
  {
   "cell_type": "markdown",
   "id": "e21fea20",
   "metadata": {},
   "source": [
    "# Section 3 : Supervised Learning: Generalisation & Overfitting; Decision trees.\n"
   ]
  },
  {
   "cell_type": "code",
   "execution_count": 63,
   "id": "1678ffb6",
   "metadata": {},
   "outputs": [],
   "source": [
    "from sklearn.tree import DecisionTreeClassifier,plot_tree # Setup"
   ]
  },
  {
   "cell_type": "markdown",
   "id": "90c79a08",
   "metadata": {},
   "source": [
    "Splitting the data set into testing and training sets (80% training, 20% testing)"
   ]
  },
  {
   "cell_type": "code",
   "execution_count": 64,
   "id": "a61e125e",
   "metadata": {},
   "outputs": [],
   "source": [
    "train_tree, test_tree = train_test_split(football, test_size = 0.2)"
   ]
  },
  {
   "cell_type": "code",
   "execution_count": 65,
   "id": "ea6740f7",
   "metadata": {},
   "outputs": [],
   "source": [
    "X = train_tree[[\"FullTimeHomeGoals\",\"FullTimeAwayGoals\"]].to_numpy() # Parameters to be used to predict class\n",
    "y = train_tree[\"FullTimeResult\"] # Class"
   ]
  },
  {
   "cell_type": "code",
   "execution_count": 66,
   "id": "4ca6375d",
   "metadata": {},
   "outputs": [
    {
     "ename": "NameError",
     "evalue": "name 'tree' is not defined",
     "output_type": "error",
     "traceback": [
      "\u001b[1;31m---------------------------------------------------------------------------\u001b[0m",
      "\u001b[1;31mNameError\u001b[0m                                 Traceback (most recent call last)",
      "\u001b[1;32m<ipython-input-66-c67045599d8b>\u001b[0m in \u001b[0;36m<module>\u001b[1;34m\u001b[0m\n\u001b[0;32m      1\u001b[0m \u001b[1;31m# Creation of the tree\u001b[0m\u001b[1;33m\u001b[0m\u001b[1;33m\u001b[0m\u001b[1;33m\u001b[0m\u001b[0m\n\u001b[1;32m----> 2\u001b[1;33m \u001b[0mtree_clf\u001b[0m \u001b[1;33m=\u001b[0m \u001b[0mtree\u001b[0m\u001b[1;33m.\u001b[0m\u001b[0mDecisionTreeClassifier\u001b[0m\u001b[1;33m(\u001b[0m\u001b[0mmax_depth\u001b[0m \u001b[1;33m=\u001b[0m \u001b[1;36m2\u001b[0m\u001b[1;33m,\u001b[0m \u001b[0mrandom_state\u001b[0m \u001b[1;33m=\u001b[0m \u001b[1;36m42\u001b[0m\u001b[1;33m)\u001b[0m\u001b[1;33m\u001b[0m\u001b[1;33m\u001b[0m\u001b[0m\n\u001b[0m\u001b[0;32m      3\u001b[0m \u001b[0mtree_clf\u001b[0m \u001b[1;33m=\u001b[0m \u001b[0mclf\u001b[0m\u001b[1;33m.\u001b[0m\u001b[0mfit\u001b[0m\u001b[1;33m(\u001b[0m\u001b[0mX\u001b[0m\u001b[1;33m,\u001b[0m \u001b[0my\u001b[0m\u001b[1;33m)\u001b[0m\u001b[1;33m\u001b[0m\u001b[1;33m\u001b[0m\u001b[0m\n",
      "\u001b[1;31mNameError\u001b[0m: name 'tree' is not defined"
     ]
    }
   ],
   "source": [
    "# Creation of the tree\n",
    "tree_clf = tree.DecisionTreeClassifier(max_depth = 2, random_state = 42)\n",
    "tree_clf = clf.fit(X, y)"
   ]
  },
  {
   "cell_type": "code",
   "execution_count": 67,
   "id": "bbfe3106",
   "metadata": {},
   "outputs": [
    {
     "ename": "NameError",
     "evalue": "name 'tree_clf' is not defined",
     "output_type": "error",
     "traceback": [
      "\u001b[1;31m---------------------------------------------------------------------------\u001b[0m",
      "\u001b[1;31mNameError\u001b[0m                                 Traceback (most recent call last)",
      "\u001b[1;32m<ipython-input-67-b2835cab4d1c>\u001b[0m in \u001b[0;36m<module>\u001b[1;34m\u001b[0m\n\u001b[0;32m      1\u001b[0m \u001b[1;31m# Plotting tree\u001b[0m\u001b[1;33m\u001b[0m\u001b[1;33m\u001b[0m\u001b[1;33m\u001b[0m\u001b[0m\n\u001b[1;32m----> 2\u001b[1;33m \u001b[0mplot_tree\u001b[0m\u001b[1;33m(\u001b[0m\u001b[0mtree_clf\u001b[0m\u001b[1;33m)\u001b[0m\u001b[1;33m\u001b[0m\u001b[1;33m\u001b[0m\u001b[0m\n\u001b[0m",
      "\u001b[1;31mNameError\u001b[0m: name 'tree_clf' is not defined"
     ]
    }
   ],
   "source": [
    "# Plotting tree\n",
    "plot_tree(tree_clf)"
   ]
  },
  {
   "cell_type": "markdown",
   "id": "3c38bbaf",
   "metadata": {},
   "source": [
    "Testing the decision tree using 80/20 testing data set"
   ]
  },
  {
   "cell_type": "code",
   "execution_count": 68,
   "id": "a928b566",
   "metadata": {},
   "outputs": [
    {
     "ename": "NameError",
     "evalue": "name 'tree_clf' is not defined",
     "output_type": "error",
     "traceback": [
      "\u001b[1;31m---------------------------------------------------------------------------\u001b[0m",
      "\u001b[1;31mNameError\u001b[0m                                 Traceback (most recent call last)",
      "\u001b[1;32m<ipython-input-68-dc7631c9ccda>\u001b[0m in \u001b[0;36m<module>\u001b[1;34m\u001b[0m\n\u001b[1;32m----> 1\u001b[1;33m \u001b[0mlabels\u001b[0m \u001b[1;33m=\u001b[0m \u001b[0mtree_clf\u001b[0m\u001b[1;33m.\u001b[0m\u001b[0mpredict\u001b[0m\u001b[1;33m(\u001b[0m\u001b[0mtest_tree\u001b[0m\u001b[1;33m[\u001b[0m\u001b[1;33m[\u001b[0m\u001b[1;34m\"FullTimeHomeGoals\"\u001b[0m\u001b[1;33m,\u001b[0m\u001b[1;34m\"FullTimeAwayGoals\"\u001b[0m\u001b[1;33m]\u001b[0m\u001b[1;33m]\u001b[0m\u001b[1;33m.\u001b[0m\u001b[0mto_numpy\u001b[0m\u001b[1;33m(\u001b[0m\u001b[1;33m)\u001b[0m\u001b[1;33m)\u001b[0m\u001b[1;33m\u001b[0m\u001b[1;33m\u001b[0m\u001b[0m\n\u001b[0m\u001b[0;32m      2\u001b[0m \u001b[1;31m# Getting metrics of predictions\u001b[0m\u001b[1;33m\u001b[0m\u001b[1;33m\u001b[0m\u001b[1;33m\u001b[0m\u001b[0m\n\u001b[0;32m      3\u001b[0m \u001b[0mprint\u001b[0m\u001b[1;33m(\u001b[0m\u001b[0mclassification_report\u001b[0m\u001b[1;33m(\u001b[0m\u001b[0mtest_tree\u001b[0m\u001b[1;33m[\u001b[0m\u001b[1;34m\"FullTimeResult\"\u001b[0m\u001b[1;33m]\u001b[0m\u001b[1;33m,\u001b[0m\u001b[0mlabels\u001b[0m\u001b[1;33m,\u001b[0m\u001b[0mtarget_names\u001b[0m \u001b[1;33m=\u001b[0m \u001b[1;33m[\u001b[0m\u001b[1;34m'class 0'\u001b[0m\u001b[1;33m,\u001b[0m \u001b[1;34m'class 1'\u001b[0m\u001b[1;33m,\u001b[0m \u001b[1;34m'class 2'\u001b[0m\u001b[1;33m]\u001b[0m\u001b[1;33m)\u001b[0m\u001b[1;33m)\u001b[0m\u001b[1;33m\u001b[0m\u001b[1;33m\u001b[0m\u001b[0m\n",
      "\u001b[1;31mNameError\u001b[0m: name 'tree_clf' is not defined"
     ]
    }
   ],
   "source": [
    "\n",
    "labels = tree_clf.predict(test_tree[[\"FullTimeHomeGoals\",\"FullTimeAwayGoals\"]].to_numpy())\n",
    "# Getting metrics of predictions\n",
    "print(classification_report(test_tree[\"FullTimeResult\"],labels,target_names = ['class 0', 'class 1', 'class 2']))\n"
   ]
  },
  {
   "cell_type": "markdown",
   "id": "562f4b14",
   "metadata": {},
   "source": [
    "Overall, the accuracy of the decision tree algorithm running on the dataset is respectable with an overall accuracy of 78% with the precision of Home and Away wins being 1 and the recall for draws being 1 as well. We can therefore say that the decision tree model for this dataset generalises well with new data. This is due to the nature of the dataset where any new data will be similar to existing data and the fact that the classification of a result is very straightforward.\n"
   ]
  },
  {
   "cell_type": "code",
   "execution_count": 69,
   "id": "e4f5c5f6",
   "metadata": {},
   "outputs": [
    {
     "name": "stdout",
     "output_type": "stream",
     "text": [
      "1958\n",
      "490\n"
     ]
    }
   ],
   "source": [
    "#Moving 30% of instances from training set to testing set\n",
    "print(len(train_tree.index))\n",
    "print(len(test_tree.index))"
   ]
  },
  {
   "cell_type": "code",
   "execution_count": 70,
   "id": "1cdd029f",
   "metadata": {},
   "outputs": [
    {
     "name": "stdout",
     "output_type": "stream",
     "text": [
      "570\n",
      "1140\n"
     ]
    }
   ],
   "source": [
    "print((1956 // 100) * 30) # 30% of the training set\n",
    "print((1956 // 100) * 60) # 60% of the training set"
   ]
  },
  {
   "cell_type": "code",
   "execution_count": 71,
   "id": "fbc95132",
   "metadata": {},
   "outputs": [
    {
     "name": "stdout",
     "output_type": "stream",
     "text": [
      "1388\n",
      "1060\n"
     ]
    }
   ],
   "source": [
    "train30 = train_tree.head(570)\n",
    "train_tree30 = train_tree.iloc[570:]\n",
    "test_tree30 = pd.concat([test_tree,train30])\n",
    "print(len(train_tree30.index))\n",
    "print(len(test_tree30.index))"
   ]
  },
  {
   "cell_type": "code",
   "execution_count": 72,
   "id": "0d69e027",
   "metadata": {},
   "outputs": [
    {
     "name": "stdout",
     "output_type": "stream",
     "text": [
      "818\n",
      "1630\n"
     ]
    }
   ],
   "source": [
    "train60 = train_tree.head(1140)\n",
    "train_tree60 = train_tree.iloc[1140:]\n",
    "test_tree60 = pd.concat([test_tree,train60])\n",
    "print(len(train_tree60.index))\n",
    "print(len(test_tree60.index))"
   ]
  },
  {
   "cell_type": "markdown",
   "id": "8eb3a5ad",
   "metadata": {},
   "source": [
    "# 30% example"
   ]
  },
  {
   "cell_type": "code",
   "execution_count": 73,
   "id": "a6228b12",
   "metadata": {},
   "outputs": [],
   "source": [
    "X = train_tree30[[\"FullTimeHomeGoals\",\"FullTimeAwayGoals\"]].to_numpy() # Parameters to be used to predict class\n",
    "y = train_tree30[\"FullTimeResult\"] # Class"
   ]
  },
  {
   "cell_type": "code",
   "execution_count": 74,
   "id": "f63d1289",
   "metadata": {},
   "outputs": [
    {
     "ename": "NameError",
     "evalue": "name 'tree' is not defined",
     "output_type": "error",
     "traceback": [
      "\u001b[1;31m---------------------------------------------------------------------------\u001b[0m",
      "\u001b[1;31mNameError\u001b[0m                                 Traceback (most recent call last)",
      "\u001b[1;32m<ipython-input-74-c70aa17cc500>\u001b[0m in \u001b[0;36m<module>\u001b[1;34m\u001b[0m\n\u001b[1;32m----> 1\u001b[1;33m \u001b[0mtree_clf30\u001b[0m \u001b[1;33m=\u001b[0m \u001b[0mtree\u001b[0m\u001b[1;33m.\u001b[0m\u001b[0mDecisionTreeClassifier\u001b[0m\u001b[1;33m(\u001b[0m\u001b[0mmax_depth\u001b[0m \u001b[1;33m=\u001b[0m \u001b[1;36m2\u001b[0m\u001b[1;33m,\u001b[0m \u001b[0mrandom_state\u001b[0m \u001b[1;33m=\u001b[0m \u001b[1;36m42\u001b[0m\u001b[1;33m)\u001b[0m\u001b[1;33m\u001b[0m\u001b[1;33m\u001b[0m\u001b[0m\n\u001b[0m\u001b[0;32m      2\u001b[0m \u001b[0mtree_clf30\u001b[0m \u001b[1;33m=\u001b[0m \u001b[0mclf\u001b[0m\u001b[1;33m.\u001b[0m\u001b[0mfit\u001b[0m\u001b[1;33m(\u001b[0m\u001b[0mX\u001b[0m\u001b[1;33m,\u001b[0m \u001b[0my\u001b[0m\u001b[1;33m)\u001b[0m\u001b[1;33m\u001b[0m\u001b[1;33m\u001b[0m\u001b[0m\n",
      "\u001b[1;31mNameError\u001b[0m: name 'tree' is not defined"
     ]
    }
   ],
   "source": [
    "tree_clf30 = tree.DecisionTreeClassifier(max_depth = 2, random_state = 42)\n",
    "tree_clf30 = clf.fit(X, y)"
   ]
  },
  {
   "cell_type": "code",
   "execution_count": 75,
   "id": "e48917b3",
   "metadata": {},
   "outputs": [
    {
     "ename": "NameError",
     "evalue": "name 'tree_clf30' is not defined",
     "output_type": "error",
     "traceback": [
      "\u001b[1;31m---------------------------------------------------------------------------\u001b[0m",
      "\u001b[1;31mNameError\u001b[0m                                 Traceback (most recent call last)",
      "\u001b[1;32m<ipython-input-75-c378dccbd24f>\u001b[0m in \u001b[0;36m<module>\u001b[1;34m\u001b[0m\n\u001b[1;32m----> 1\u001b[1;33m \u001b[0mlabels\u001b[0m \u001b[1;33m=\u001b[0m \u001b[0mtree_clf30\u001b[0m\u001b[1;33m.\u001b[0m\u001b[0mpredict\u001b[0m\u001b[1;33m(\u001b[0m\u001b[0mtest_tree30\u001b[0m\u001b[1;33m[\u001b[0m\u001b[1;33m[\u001b[0m\u001b[1;34m\"FullTimeHomeGoals\"\u001b[0m\u001b[1;33m,\u001b[0m\u001b[1;34m\"FullTimeAwayGoals\"\u001b[0m\u001b[1;33m]\u001b[0m\u001b[1;33m]\u001b[0m\u001b[1;33m.\u001b[0m\u001b[0mto_numpy\u001b[0m\u001b[1;33m(\u001b[0m\u001b[1;33m)\u001b[0m\u001b[1;33m)\u001b[0m\u001b[1;33m\u001b[0m\u001b[1;33m\u001b[0m\u001b[0m\n\u001b[0m\u001b[0;32m      2\u001b[0m \u001b[1;31m# Getting metrics of predictions\u001b[0m\u001b[1;33m\u001b[0m\u001b[1;33m\u001b[0m\u001b[1;33m\u001b[0m\u001b[0m\n\u001b[0;32m      3\u001b[0m \u001b[0mprint\u001b[0m\u001b[1;33m(\u001b[0m\u001b[0mclassification_report\u001b[0m\u001b[1;33m(\u001b[0m\u001b[0mtest_tree30\u001b[0m\u001b[1;33m[\u001b[0m\u001b[1;34m\"FullTimeResult\"\u001b[0m\u001b[1;33m]\u001b[0m\u001b[1;33m,\u001b[0m\u001b[0mlabels\u001b[0m\u001b[1;33m,\u001b[0m\u001b[0mtarget_names\u001b[0m \u001b[1;33m=\u001b[0m \u001b[1;33m[\u001b[0m\u001b[1;34m'class 0'\u001b[0m\u001b[1;33m,\u001b[0m \u001b[1;34m'class 1'\u001b[0m\u001b[1;33m,\u001b[0m \u001b[1;34m'class 2'\u001b[0m\u001b[1;33m]\u001b[0m\u001b[1;33m)\u001b[0m\u001b[1;33m)\u001b[0m\u001b[1;33m\u001b[0m\u001b[1;33m\u001b[0m\u001b[0m\n",
      "\u001b[1;31mNameError\u001b[0m: name 'tree_clf30' is not defined"
     ]
    }
   ],
   "source": [
    "\n",
    "labels = tree_clf30.predict(test_tree30[[\"FullTimeHomeGoals\",\"FullTimeAwayGoals\"]].to_numpy())\n",
    "# Getting metrics of predictions\n",
    "print(classification_report(test_tree30[\"FullTimeResult\"],labels,target_names = ['class 0', 'class 1', 'class 2']))"
   ]
  },
  {
   "cell_type": "markdown",
   "id": "bbc59940",
   "metadata": {},
   "source": [
    "# 60% example"
   ]
  },
  {
   "cell_type": "code",
   "execution_count": 76,
   "id": "45b3f823",
   "metadata": {},
   "outputs": [],
   "source": [
    "X = train_tree60[[\"FullTimeHomeGoals\",\"FullTimeAwayGoals\"]].to_numpy() # Parameters to be used to predict class\n",
    "y = train_tree60[\"FullTimeResult\"] # Class"
   ]
  },
  {
   "cell_type": "code",
   "execution_count": 77,
   "id": "fd71122b",
   "metadata": {},
   "outputs": [
    {
     "ename": "NameError",
     "evalue": "name 'tree' is not defined",
     "output_type": "error",
     "traceback": [
      "\u001b[1;31m---------------------------------------------------------------------------\u001b[0m",
      "\u001b[1;31mNameError\u001b[0m                                 Traceback (most recent call last)",
      "\u001b[1;32m<ipython-input-77-cf1b21fdd975>\u001b[0m in \u001b[0;36m<module>\u001b[1;34m\u001b[0m\n\u001b[1;32m----> 1\u001b[1;33m \u001b[0mtree_clf60\u001b[0m \u001b[1;33m=\u001b[0m \u001b[0mtree\u001b[0m\u001b[1;33m.\u001b[0m\u001b[0mDecisionTreeClassifier\u001b[0m\u001b[1;33m(\u001b[0m\u001b[0mmax_depth\u001b[0m \u001b[1;33m=\u001b[0m \u001b[1;36m2\u001b[0m\u001b[1;33m,\u001b[0m \u001b[0mrandom_state\u001b[0m \u001b[1;33m=\u001b[0m \u001b[1;36m42\u001b[0m\u001b[1;33m)\u001b[0m\u001b[1;33m\u001b[0m\u001b[1;33m\u001b[0m\u001b[0m\n\u001b[0m\u001b[0;32m      2\u001b[0m \u001b[0mtree_clf60\u001b[0m \u001b[1;33m=\u001b[0m \u001b[0mclf\u001b[0m\u001b[1;33m.\u001b[0m\u001b[0mfit\u001b[0m\u001b[1;33m(\u001b[0m\u001b[0mX\u001b[0m\u001b[1;33m,\u001b[0m \u001b[0my\u001b[0m\u001b[1;33m)\u001b[0m\u001b[1;33m\u001b[0m\u001b[1;33m\u001b[0m\u001b[0m\n",
      "\u001b[1;31mNameError\u001b[0m: name 'tree' is not defined"
     ]
    }
   ],
   "source": [
    "tree_clf60 = tree.DecisionTreeClassifier(max_depth = 2, random_state = 42)\n",
    "tree_clf60 = clf.fit(X, y)"
   ]
  },
  {
   "cell_type": "code",
   "execution_count": 78,
   "id": "0c6bcd24",
   "metadata": {},
   "outputs": [
    {
     "ename": "NameError",
     "evalue": "name 'tree_clf60' is not defined",
     "output_type": "error",
     "traceback": [
      "\u001b[1;31m---------------------------------------------------------------------------\u001b[0m",
      "\u001b[1;31mNameError\u001b[0m                                 Traceback (most recent call last)",
      "\u001b[1;32m<ipython-input-78-898e72b1ff4d>\u001b[0m in \u001b[0;36m<module>\u001b[1;34m\u001b[0m\n\u001b[1;32m----> 1\u001b[1;33m \u001b[0mlabels\u001b[0m \u001b[1;33m=\u001b[0m \u001b[0mtree_clf60\u001b[0m\u001b[1;33m.\u001b[0m\u001b[0mpredict\u001b[0m\u001b[1;33m(\u001b[0m\u001b[0mtest_tree60\u001b[0m\u001b[1;33m[\u001b[0m\u001b[1;33m[\u001b[0m\u001b[1;34m\"FullTimeHomeGoals\"\u001b[0m\u001b[1;33m,\u001b[0m\u001b[1;34m\"FullTimeAwayGoals\"\u001b[0m\u001b[1;33m]\u001b[0m\u001b[1;33m]\u001b[0m\u001b[1;33m.\u001b[0m\u001b[0mto_numpy\u001b[0m\u001b[1;33m(\u001b[0m\u001b[1;33m)\u001b[0m\u001b[1;33m)\u001b[0m\u001b[1;33m\u001b[0m\u001b[1;33m\u001b[0m\u001b[0m\n\u001b[0m\u001b[0;32m      2\u001b[0m \u001b[1;31m# Getting metrics of predictions\u001b[0m\u001b[1;33m\u001b[0m\u001b[1;33m\u001b[0m\u001b[1;33m\u001b[0m\u001b[0m\n\u001b[0;32m      3\u001b[0m \u001b[0mprint\u001b[0m\u001b[1;33m(\u001b[0m\u001b[0mclassification_report\u001b[0m\u001b[1;33m(\u001b[0m\u001b[0mtest_tree60\u001b[0m\u001b[1;33m[\u001b[0m\u001b[1;34m\"FullTimeResult\"\u001b[0m\u001b[1;33m]\u001b[0m\u001b[1;33m,\u001b[0m\u001b[0mlabels\u001b[0m\u001b[1;33m,\u001b[0m\u001b[0mtarget_names\u001b[0m \u001b[1;33m=\u001b[0m \u001b[1;33m[\u001b[0m\u001b[1;34m'class 0'\u001b[0m\u001b[1;33m,\u001b[0m \u001b[1;34m'class 1'\u001b[0m\u001b[1;33m,\u001b[0m \u001b[1;34m'class 2'\u001b[0m\u001b[1;33m]\u001b[0m\u001b[1;33m)\u001b[0m\u001b[1;33m)\u001b[0m\u001b[1;33m\u001b[0m\u001b[1;33m\u001b[0m\u001b[0m\n",
      "\u001b[1;31mNameError\u001b[0m: name 'tree_clf60' is not defined"
     ]
    }
   ],
   "source": [
    "labels = tree_clf60.predict(test_tree60[[\"FullTimeHomeGoals\",\"FullTimeAwayGoals\"]].to_numpy())\n",
    "# Getting metrics of predictions\n",
    "print(classification_report(test_tree60[\"FullTimeResult\"],labels,target_names = ['class 0', 'class 1', 'class 2']))"
   ]
  },
  {
   "cell_type": "markdown",
   "id": "6a0db56a",
   "metadata": {},
   "source": [
    "There is a marginal increase for the accuracy of the 30% example (0.02/2%) and a (0.01/1%) improvement for 60% example. The effect of increasing the size of the training data on this dataset does not affect the overall accuracy or F measure for the model in both the 30% and 60% examples by a noticable margin.Therefore we can say that this model does not suffer from overfitting even when the testing data set is larger than the training set used."
   ]
  },
  {
   "cell_type": "markdown",
   "id": "a00a1d25",
   "metadata": {},
   "source": [
    "# K-fold cross validation"
   ]
  },
  {
   "cell_type": "code",
   "execution_count": 79,
   "id": "c5e96efa",
   "metadata": {},
   "outputs": [],
   "source": [
    "#K fold cross validation, uses the training data set split into 10 folds, used to predict \n",
    "from sklearn.model_selection import KFold\n",
    "kf = KFold(n_splits=10)\n",
    "football = football_non_shuffled\n",
    "X = np.array(football[[\"FullTimeHomeGoals\",\"FullTimeAwayGoals\"]])\n",
    "y = np.array(football[\"FullTimeResult\"])"
   ]
  },
  {
   "cell_type": "code",
   "execution_count": 80,
   "id": "b91bd0e6",
   "metadata": {},
   "outputs": [
    {
     "ename": "NameError",
     "evalue": "name 'tree' is not defined",
     "output_type": "error",
     "traceback": [
      "\u001b[1;31m---------------------------------------------------------------------------\u001b[0m",
      "\u001b[1;31mNameError\u001b[0m                                 Traceback (most recent call last)",
      "\u001b[1;32m<ipython-input-80-21dea79da9ae>\u001b[0m in \u001b[0;36m<module>\u001b[1;34m\u001b[0m\n\u001b[0;32m      4\u001b[0m      \u001b[0mX_train\u001b[0m\u001b[1;33m,\u001b[0m \u001b[0mX_test\u001b[0m \u001b[1;33m=\u001b[0m \u001b[0mX\u001b[0m\u001b[1;33m[\u001b[0m\u001b[0mtrain_index\u001b[0m\u001b[1;33m]\u001b[0m\u001b[1;33m,\u001b[0m \u001b[0mX\u001b[0m\u001b[1;33m[\u001b[0m\u001b[0mtest_index\u001b[0m\u001b[1;33m]\u001b[0m\u001b[1;33m\u001b[0m\u001b[1;33m\u001b[0m\u001b[0m\n\u001b[0;32m      5\u001b[0m      \u001b[0my_train\u001b[0m\u001b[1;33m,\u001b[0m \u001b[0my_test\u001b[0m \u001b[1;33m=\u001b[0m \u001b[0my\u001b[0m\u001b[1;33m[\u001b[0m\u001b[0mtrain_index\u001b[0m\u001b[1;33m]\u001b[0m\u001b[1;33m,\u001b[0m \u001b[0my\u001b[0m\u001b[1;33m[\u001b[0m\u001b[0mtest_index\u001b[0m\u001b[1;33m]\u001b[0m\u001b[1;33m\u001b[0m\u001b[1;33m\u001b[0m\u001b[0m\n\u001b[1;32m----> 6\u001b[1;33m      \u001b[0mtree_K_fold\u001b[0m \u001b[1;33m=\u001b[0m \u001b[0mtree\u001b[0m\u001b[1;33m.\u001b[0m\u001b[0mDecisionTreeClassifier\u001b[0m\u001b[1;33m(\u001b[0m\u001b[0mmax_depth\u001b[0m \u001b[1;33m=\u001b[0m \u001b[1;36m2\u001b[0m\u001b[1;33m,\u001b[0m \u001b[0mrandom_state\u001b[0m \u001b[1;33m=\u001b[0m \u001b[1;36m42\u001b[0m\u001b[1;33m)\u001b[0m\u001b[1;33m\u001b[0m\u001b[1;33m\u001b[0m\u001b[0m\n\u001b[0m\u001b[0;32m      7\u001b[0m      \u001b[0mtree_K_fold\u001b[0m \u001b[1;33m=\u001b[0m \u001b[0mclf\u001b[0m\u001b[1;33m.\u001b[0m\u001b[0mfit\u001b[0m\u001b[1;33m(\u001b[0m\u001b[0mX_train\u001b[0m\u001b[1;33m,\u001b[0m\u001b[0my_train\u001b[0m\u001b[1;33m)\u001b[0m\u001b[1;33m\u001b[0m\u001b[1;33m\u001b[0m\u001b[0m\n\u001b[0;32m      8\u001b[0m      \u001b[0mlabels\u001b[0m \u001b[1;33m=\u001b[0m \u001b[0mtree_K_fold\u001b[0m\u001b[1;33m.\u001b[0m\u001b[0mpredict\u001b[0m\u001b[1;33m(\u001b[0m\u001b[0mX_test\u001b[0m\u001b[1;33m)\u001b[0m\u001b[1;33m\u001b[0m\u001b[1;33m\u001b[0m\u001b[0m\n",
      "\u001b[1;31mNameError\u001b[0m: name 'tree' is not defined"
     ]
    }
   ],
   "source": [
    "count = 0\n",
    "for train_index, test_index in kf.split(X):\n",
    "     count = count + 1\n",
    "     X_train, X_test = X[train_index], X[test_index]\n",
    "     y_train, y_test = y[train_index], y[test_index] \n",
    "     tree_K_fold = tree.DecisionTreeClassifier(max_depth = 2, random_state = 42)\n",
    "     tree_K_fold = clf.fit(X_train,y_train)   \n",
    "     labels = tree_K_fold.predict(X_test)\n",
    "     print(\"Fold Number : \" , count)\n",
    "     print(classification_report(y_test,labels,target_names = ['class 0', 'class 1', 'class 2']))"
   ]
  },
  {
   "cell_type": "markdown",
   "id": "816f82d3",
   "metadata": {},
   "source": [
    "While the accuracy of each fold and the precision, recall and combined f-measure of each class in each fold vary. The average accuracy across the 10 folds was 0.79 which is very similar to using the test/train split. In general, this classifier works very well with this dataset, although it has a similar nature. It offers improved accuracy over Naive Bayes classifier which only had an accuracy of 0.64 when all the attributes are used. However, it is not as good as using the Naive Bayes classifier when the number of attributes were restricted to 6 which yielded a 100% accuracy."
   ]
  },
  {
   "cell_type": "markdown",
   "id": "a55998b7",
   "metadata": {},
   "source": [
    "# Modifying Parameters"
   ]
  },
  {
   "cell_type": "code",
   "execution_count": 81,
   "id": "0bbc4d5a",
   "metadata": {},
   "outputs": [
    {
     "ename": "NameError",
     "evalue": "name 'tree' is not defined",
     "output_type": "error",
     "traceback": [
      "\u001b[1;31m---------------------------------------------------------------------------\u001b[0m",
      "\u001b[1;31mNameError\u001b[0m                                 Traceback (most recent call last)",
      "\u001b[1;32m<ipython-input-81-9374ef23f849>\u001b[0m in \u001b[0;36m<module>\u001b[1;34m\u001b[0m\n\u001b[0;32m      2\u001b[0m \u001b[0my\u001b[0m \u001b[1;33m=\u001b[0m \u001b[0mtrain_tree\u001b[0m\u001b[1;33m[\u001b[0m\u001b[1;34m\"FullTimeResult\"\u001b[0m\u001b[1;33m]\u001b[0m \u001b[1;31m# Class\u001b[0m\u001b[1;33m\u001b[0m\u001b[1;33m\u001b[0m\u001b[0m\n\u001b[0;32m      3\u001b[0m \u001b[1;31m# Creation of the tree\u001b[0m\u001b[1;33m\u001b[0m\u001b[1;33m\u001b[0m\u001b[1;33m\u001b[0m\u001b[0m\n\u001b[1;32m----> 4\u001b[1;33m \u001b[0mtree_clf\u001b[0m \u001b[1;33m=\u001b[0m \u001b[0mtree\u001b[0m\u001b[1;33m.\u001b[0m\u001b[0mDecisionTreeClassifier\u001b[0m\u001b[1;33m(\u001b[0m\u001b[0mmax_depth\u001b[0m \u001b[1;33m=\u001b[0m \u001b[1;36m2\u001b[0m\u001b[1;33m,\u001b[0m \u001b[0mrandom_state\u001b[0m \u001b[1;33m=\u001b[0m \u001b[1;36m42\u001b[0m\u001b[1;33m,\u001b[0m \u001b[0msplitter\u001b[0m \u001b[1;33m=\u001b[0m \u001b[1;34m\"random\"\u001b[0m\u001b[1;33m)\u001b[0m\u001b[1;33m\u001b[0m\u001b[1;33m\u001b[0m\u001b[0m\n\u001b[0m\u001b[0;32m      5\u001b[0m \u001b[0mtree_clf\u001b[0m \u001b[1;33m=\u001b[0m \u001b[0mclf\u001b[0m\u001b[1;33m.\u001b[0m\u001b[0mfit\u001b[0m\u001b[1;33m(\u001b[0m\u001b[0mX\u001b[0m\u001b[1;33m,\u001b[0m \u001b[0my\u001b[0m\u001b[1;33m)\u001b[0m\u001b[1;33m\u001b[0m\u001b[1;33m\u001b[0m\u001b[0m\n\u001b[0;32m      6\u001b[0m \u001b[0mplot_tree\u001b[0m\u001b[1;33m(\u001b[0m\u001b[0mtree_clf\u001b[0m\u001b[1;33m)\u001b[0m\u001b[1;33m\u001b[0m\u001b[1;33m\u001b[0m\u001b[0m\n",
      "\u001b[1;31mNameError\u001b[0m: name 'tree' is not defined"
     ]
    }
   ],
   "source": [
    "X = train_tree[[\"FullTimeHomeGoals\",\"FullTimeAwayGoals\"]].to_numpy() # Parameters to be used to predict class\n",
    "y = train_tree[\"FullTimeResult\"] # Class\n",
    "# Creation of the tree\n",
    "tree_clf = tree.DecisionTreeClassifier(max_depth = 2, random_state = 42, splitter = \"random\")\n",
    "tree_clf = clf.fit(X, y)\n",
    "plot_tree(tree_clf)"
   ]
  },
  {
   "cell_type": "code",
   "execution_count": 82,
   "id": "110d2ed9",
   "metadata": {},
   "outputs": [
    {
     "ename": "NameError",
     "evalue": "name 'tree_clf' is not defined",
     "output_type": "error",
     "traceback": [
      "\u001b[1;31m---------------------------------------------------------------------------\u001b[0m",
      "\u001b[1;31mNameError\u001b[0m                                 Traceback (most recent call last)",
      "\u001b[1;32m<ipython-input-82-dc7631c9ccda>\u001b[0m in \u001b[0;36m<module>\u001b[1;34m\u001b[0m\n\u001b[1;32m----> 1\u001b[1;33m \u001b[0mlabels\u001b[0m \u001b[1;33m=\u001b[0m \u001b[0mtree_clf\u001b[0m\u001b[1;33m.\u001b[0m\u001b[0mpredict\u001b[0m\u001b[1;33m(\u001b[0m\u001b[0mtest_tree\u001b[0m\u001b[1;33m[\u001b[0m\u001b[1;33m[\u001b[0m\u001b[1;34m\"FullTimeHomeGoals\"\u001b[0m\u001b[1;33m,\u001b[0m\u001b[1;34m\"FullTimeAwayGoals\"\u001b[0m\u001b[1;33m]\u001b[0m\u001b[1;33m]\u001b[0m\u001b[1;33m.\u001b[0m\u001b[0mto_numpy\u001b[0m\u001b[1;33m(\u001b[0m\u001b[1;33m)\u001b[0m\u001b[1;33m)\u001b[0m\u001b[1;33m\u001b[0m\u001b[1;33m\u001b[0m\u001b[0m\n\u001b[0m\u001b[0;32m      2\u001b[0m \u001b[1;31m# Getting metrics of predictions\u001b[0m\u001b[1;33m\u001b[0m\u001b[1;33m\u001b[0m\u001b[1;33m\u001b[0m\u001b[0m\n\u001b[0;32m      3\u001b[0m \u001b[0mprint\u001b[0m\u001b[1;33m(\u001b[0m\u001b[0mclassification_report\u001b[0m\u001b[1;33m(\u001b[0m\u001b[0mtest_tree\u001b[0m\u001b[1;33m[\u001b[0m\u001b[1;34m\"FullTimeResult\"\u001b[0m\u001b[1;33m]\u001b[0m\u001b[1;33m,\u001b[0m\u001b[0mlabels\u001b[0m\u001b[1;33m,\u001b[0m\u001b[0mtarget_names\u001b[0m \u001b[1;33m=\u001b[0m \u001b[1;33m[\u001b[0m\u001b[1;34m'class 0'\u001b[0m\u001b[1;33m,\u001b[0m \u001b[1;34m'class 1'\u001b[0m\u001b[1;33m,\u001b[0m \u001b[1;34m'class 2'\u001b[0m\u001b[1;33m]\u001b[0m\u001b[1;33m)\u001b[0m\u001b[1;33m)\u001b[0m\u001b[1;33m\u001b[0m\u001b[1;33m\u001b[0m\u001b[0m\n",
      "\u001b[1;31mNameError\u001b[0m: name 'tree_clf' is not defined"
     ]
    }
   ],
   "source": [
    "labels = tree_clf.predict(test_tree[[\"FullTimeHomeGoals\",\"FullTimeAwayGoals\"]].to_numpy())\n",
    "# Getting metrics of predictions\n",
    "print(classification_report(test_tree[\"FullTimeResult\"],labels,target_names = ['class 0', 'class 1', 'class 2']))"
   ]
  },
  {
   "cell_type": "markdown",
   "id": "f4c3cc4f",
   "metadata": {},
   "source": [
    "The effect of changing the splitting strategy from \"best\"(default) to \"random\" does not have any affect on the tree's accuracy, or the F-measure, precision or recall of the classification.\n"
   ]
  },
  {
   "cell_type": "code",
   "execution_count": 83,
   "id": "fe8debc7",
   "metadata": {},
   "outputs": [
    {
     "ename": "NameError",
     "evalue": "name 'tree' is not defined",
     "output_type": "error",
     "traceback": [
      "\u001b[1;31m---------------------------------------------------------------------------\u001b[0m",
      "\u001b[1;31mNameError\u001b[0m                                 Traceback (most recent call last)",
      "\u001b[1;32m<ipython-input-83-541e39d7a2ff>\u001b[0m in \u001b[0;36m<module>\u001b[1;34m\u001b[0m\n\u001b[0;32m      2\u001b[0m \u001b[0my\u001b[0m \u001b[1;33m=\u001b[0m \u001b[0mtrain_tree\u001b[0m\u001b[1;33m[\u001b[0m\u001b[1;34m\"FullTimeResult\"\u001b[0m\u001b[1;33m]\u001b[0m \u001b[1;31m# Class\u001b[0m\u001b[1;33m\u001b[0m\u001b[1;33m\u001b[0m\u001b[0m\n\u001b[0;32m      3\u001b[0m \u001b[1;31m# Creation of the tree\u001b[0m\u001b[1;33m\u001b[0m\u001b[1;33m\u001b[0m\u001b[1;33m\u001b[0m\u001b[0m\n\u001b[1;32m----> 4\u001b[1;33m \u001b[0mtree_clf\u001b[0m \u001b[1;33m=\u001b[0m \u001b[0mtree\u001b[0m\u001b[1;33m.\u001b[0m\u001b[0mDecisionTreeClassifier\u001b[0m\u001b[1;33m(\u001b[0m\u001b[0mmax_depth\u001b[0m \u001b[1;33m=\u001b[0m \u001b[1;36m2\u001b[0m\u001b[1;33m,\u001b[0m \u001b[0mrandom_state\u001b[0m \u001b[1;33m=\u001b[0m \u001b[1;36m42\u001b[0m\u001b[1;33m,\u001b[0m \u001b[0mcriterion\u001b[0m \u001b[1;33m=\u001b[0m \u001b[1;34m\"entropy\"\u001b[0m\u001b[1;33m)\u001b[0m\u001b[1;33m\u001b[0m\u001b[1;33m\u001b[0m\u001b[0m\n\u001b[0m\u001b[0;32m      5\u001b[0m \u001b[0mtree_clf\u001b[0m \u001b[1;33m=\u001b[0m \u001b[0mclf\u001b[0m\u001b[1;33m.\u001b[0m\u001b[0mfit\u001b[0m\u001b[1;33m(\u001b[0m\u001b[0mX\u001b[0m\u001b[1;33m,\u001b[0m \u001b[0my\u001b[0m\u001b[1;33m)\u001b[0m\u001b[1;33m\u001b[0m\u001b[1;33m\u001b[0m\u001b[0m\n\u001b[0;32m      6\u001b[0m \u001b[0mplot_tree\u001b[0m\u001b[1;33m(\u001b[0m\u001b[0mtree_clf\u001b[0m\u001b[1;33m)\u001b[0m\u001b[1;33m\u001b[0m\u001b[1;33m\u001b[0m\u001b[0m\n",
      "\u001b[1;31mNameError\u001b[0m: name 'tree' is not defined"
     ]
    }
   ],
   "source": [
    "X = train_tree[[\"FullTimeHomeGoals\",\"FullTimeAwayGoals\"]].to_numpy() # Parameters to be used to predict class\n",
    "y = train_tree[\"FullTimeResult\"] # Class\n",
    "# Creation of the tree\n",
    "tree_clf = tree.DecisionTreeClassifier(max_depth = 2, random_state = 42, criterion = \"entropy\")\n",
    "tree_clf = clf.fit(X, y)\n",
    "plot_tree(tree_clf)"
   ]
  },
  {
   "cell_type": "code",
   "execution_count": 84,
   "id": "2e495f39",
   "metadata": {},
   "outputs": [
    {
     "ename": "NameError",
     "evalue": "name 'tree_clf' is not defined",
     "output_type": "error",
     "traceback": [
      "\u001b[1;31m---------------------------------------------------------------------------\u001b[0m",
      "\u001b[1;31mNameError\u001b[0m                                 Traceback (most recent call last)",
      "\u001b[1;32m<ipython-input-84-dc7631c9ccda>\u001b[0m in \u001b[0;36m<module>\u001b[1;34m\u001b[0m\n\u001b[1;32m----> 1\u001b[1;33m \u001b[0mlabels\u001b[0m \u001b[1;33m=\u001b[0m \u001b[0mtree_clf\u001b[0m\u001b[1;33m.\u001b[0m\u001b[0mpredict\u001b[0m\u001b[1;33m(\u001b[0m\u001b[0mtest_tree\u001b[0m\u001b[1;33m[\u001b[0m\u001b[1;33m[\u001b[0m\u001b[1;34m\"FullTimeHomeGoals\"\u001b[0m\u001b[1;33m,\u001b[0m\u001b[1;34m\"FullTimeAwayGoals\"\u001b[0m\u001b[1;33m]\u001b[0m\u001b[1;33m]\u001b[0m\u001b[1;33m.\u001b[0m\u001b[0mto_numpy\u001b[0m\u001b[1;33m(\u001b[0m\u001b[1;33m)\u001b[0m\u001b[1;33m)\u001b[0m\u001b[1;33m\u001b[0m\u001b[1;33m\u001b[0m\u001b[0m\n\u001b[0m\u001b[0;32m      2\u001b[0m \u001b[1;31m# Getting metrics of predictions\u001b[0m\u001b[1;33m\u001b[0m\u001b[1;33m\u001b[0m\u001b[1;33m\u001b[0m\u001b[0m\n\u001b[0;32m      3\u001b[0m \u001b[0mprint\u001b[0m\u001b[1;33m(\u001b[0m\u001b[0mclassification_report\u001b[0m\u001b[1;33m(\u001b[0m\u001b[0mtest_tree\u001b[0m\u001b[1;33m[\u001b[0m\u001b[1;34m\"FullTimeResult\"\u001b[0m\u001b[1;33m]\u001b[0m\u001b[1;33m,\u001b[0m\u001b[0mlabels\u001b[0m\u001b[1;33m,\u001b[0m\u001b[0mtarget_names\u001b[0m \u001b[1;33m=\u001b[0m \u001b[1;33m[\u001b[0m\u001b[1;34m'class 0'\u001b[0m\u001b[1;33m,\u001b[0m \u001b[1;34m'class 1'\u001b[0m\u001b[1;33m,\u001b[0m \u001b[1;34m'class 2'\u001b[0m\u001b[1;33m]\u001b[0m\u001b[1;33m)\u001b[0m\u001b[1;33m)\u001b[0m\u001b[1;33m\u001b[0m\u001b[1;33m\u001b[0m\u001b[0m\n",
      "\u001b[1;31mNameError\u001b[0m: name 'tree_clf' is not defined"
     ]
    }
   ],
   "source": [
    "labels = tree_clf.predict(test_tree[[\"FullTimeHomeGoals\",\"FullTimeAwayGoals\"]].to_numpy())\n",
    "# Getting metrics of predictions\n",
    "print(classification_report(test_tree[\"FullTimeResult\"],labels,target_names = ['class 0', 'class 1', 'class 2']))"
   ]
  },
  {
   "cell_type": "markdown",
   "id": "df93a2ed",
   "metadata": {},
   "source": [
    "The effect of changing the criterion strategy from \"gini\"(default) to \"entropy\" also does not have any affect on the tree's accuracy, or the F-measure, precision or recall of the classification."
   ]
  },
  {
   "cell_type": "markdown",
   "id": "075f5a69",
   "metadata": {},
   "source": [
    "   # Random Forest  "
   ]
  },
  {
   "cell_type": "code",
   "execution_count": 85,
   "id": "73022180",
   "metadata": {},
   "outputs": [
    {
     "ename": "NameError",
     "evalue": "name 'tree_clf' is not defined",
     "output_type": "error",
     "traceback": [
      "\u001b[1;31m---------------------------------------------------------------------------\u001b[0m",
      "\u001b[1;31mNameError\u001b[0m                                 Traceback (most recent call last)",
      "\u001b[1;32m<ipython-input-85-80d775bc0a4e>\u001b[0m in \u001b[0;36m<module>\u001b[1;34m\u001b[0m\n\u001b[0;32m      6\u001b[0m \u001b[0mrf\u001b[0m \u001b[1;33m=\u001b[0m \u001b[0mRandomForestRegressor\u001b[0m\u001b[1;33m(\u001b[0m\u001b[0mn_estimators\u001b[0m \u001b[1;33m=\u001b[0m \u001b[1;36m1000\u001b[0m\u001b[1;33m,\u001b[0m \u001b[0mrandom_state\u001b[0m \u001b[1;33m=\u001b[0m \u001b[1;36m42\u001b[0m\u001b[1;33m)\u001b[0m\u001b[1;33m\u001b[0m\u001b[1;33m\u001b[0m\u001b[0m\n\u001b[0;32m      7\u001b[0m \u001b[0mrf\u001b[0m\u001b[1;33m.\u001b[0m\u001b[0mfit\u001b[0m\u001b[1;33m(\u001b[0m\u001b[0mX\u001b[0m\u001b[1;33m,\u001b[0m\u001b[0my\u001b[0m\u001b[1;33m)\u001b[0m\u001b[1;33m\u001b[0m\u001b[1;33m\u001b[0m\u001b[0m\n\u001b[1;32m----> 8\u001b[1;33m \u001b[0mlabels\u001b[0m \u001b[1;33m=\u001b[0m \u001b[0mtree_clf\u001b[0m\u001b[1;33m.\u001b[0m\u001b[0mpredict\u001b[0m\u001b[1;33m(\u001b[0m\u001b[0mtest_tree\u001b[0m\u001b[1;33m[\u001b[0m\u001b[1;33m[\u001b[0m\u001b[1;34m\"FullTimeHomeGoals\"\u001b[0m\u001b[1;33m,\u001b[0m\u001b[1;34m\"FullTimeAwayGoals\"\u001b[0m\u001b[1;33m]\u001b[0m\u001b[1;33m]\u001b[0m\u001b[1;33m.\u001b[0m\u001b[0mto_numpy\u001b[0m\u001b[1;33m(\u001b[0m\u001b[1;33m)\u001b[0m\u001b[1;33m)\u001b[0m\u001b[1;33m\u001b[0m\u001b[1;33m\u001b[0m\u001b[0m\n\u001b[0m\u001b[0;32m      9\u001b[0m \u001b[1;31m# Getting metrics of predictions\u001b[0m\u001b[1;33m\u001b[0m\u001b[1;33m\u001b[0m\u001b[1;33m\u001b[0m\u001b[0m\n\u001b[0;32m     10\u001b[0m \u001b[0mprint\u001b[0m\u001b[1;33m(\u001b[0m\u001b[0mclassification_report\u001b[0m\u001b[1;33m(\u001b[0m\u001b[0mtest_tree\u001b[0m\u001b[1;33m[\u001b[0m\u001b[1;34m\"FullTimeResult\"\u001b[0m\u001b[1;33m]\u001b[0m\u001b[1;33m,\u001b[0m\u001b[0mlabels\u001b[0m\u001b[1;33m,\u001b[0m\u001b[0mtarget_names\u001b[0m \u001b[1;33m=\u001b[0m \u001b[1;33m[\u001b[0m\u001b[1;34m'class 0'\u001b[0m\u001b[1;33m,\u001b[0m \u001b[1;34m'class 1'\u001b[0m\u001b[1;33m,\u001b[0m \u001b[1;34m'class 2'\u001b[0m\u001b[1;33m]\u001b[0m\u001b[1;33m)\u001b[0m\u001b[1;33m)\u001b[0m\u001b[1;33m\u001b[0m\u001b[1;33m\u001b[0m\u001b[0m\n",
      "\u001b[1;31mNameError\u001b[0m: name 'tree_clf' is not defined"
     ]
    }
   ],
   "source": [
    "from sklearn.ensemble import RandomForestRegressor\n",
    "X = train_tree[[\"FullTimeHomeGoals\",\"FullTimeAwayGoals\"]].to_numpy() # Parameters to be used to predict class\n",
    "y = train_tree[\"FullTimeResult\"] # Class to predict\n",
    "train_tree, test_tree = train_test_split(football, test_size = 0.2)\n",
    "\n",
    "rf = RandomForestRegressor(n_estimators = 1000, random_state = 42)\n",
    "rf.fit(X,y)\n",
    "labels = tree_clf.predict(test_tree[[\"FullTimeHomeGoals\",\"FullTimeAwayGoals\"]].to_numpy())\n",
    "# Getting metrics of predictions\n",
    "print(classification_report(test_tree[\"FullTimeResult\"],labels,target_names = ['class 0', 'class 1', 'class 2']))\n"
   ]
  },
  {
   "cell_type": "markdown",
   "id": "af303d0f",
   "metadata": {},
   "source": [
    "The random forest regressor produces the exact same output for this dataset."
   ]
  },
  {
   "cell_type": "markdown",
   "id": "ff8d0e51",
   "metadata": {},
   "source": [
    "# Section 4: Neural Networks and Convolutional Neural Networks"
   ]
  },
  {
   "cell_type": "markdown",
   "id": "3abb55c4",
   "metadata": {},
   "source": [
    "1) Run a Linear classifier on the training data set"
   ]
  },
  {
   "cell_type": "code",
   "execution_count": 196,
   "id": "77c4ea7d",
   "metadata": {},
   "outputs": [],
   "source": [
    "from sklearn.linear_model import RidgeClassifier\n",
    "X = football_non_shuffled[[\"FullTimeHomeGoals\",\"FullTimeAwayGoals\"]].to_numpy() # Parameters to be used to predict class\n",
    "y = football_non_shuffled[\"FullTimeResult\"] # Class to predict"
   ]
  },
  {
   "cell_type": "markdown",
   "id": "ac5331a6",
   "metadata": {},
   "source": [
    "Using 10 fold cross validation"
   ]
  },
  {
   "cell_type": "code",
   "execution_count": 87,
   "id": "1c81689d",
   "metadata": {},
   "outputs": [
    {
     "name": "stdout",
     "output_type": "stream",
     "text": [
      "Fold Number :  1\n",
      "              precision    recall  f1-score   support\n",
      "\n",
      "     class 0       0.79      1.00      0.88        67\n",
      "     class 1       1.00      0.24      0.38        63\n",
      "     class 2       0.79      1.00      0.88       115\n",
      "\n",
      "    accuracy                           0.80       245\n",
      "   macro avg       0.86      0.75      0.72       245\n",
      "weighted avg       0.84      0.80      0.76       245\n",
      "\n",
      "Fold Number :  2\n",
      "              precision    recall  f1-score   support\n",
      "\n",
      "     class 0       0.88      1.00      0.93        78\n",
      "     class 1       1.00      0.34      0.51        61\n",
      "     class 2       0.79      1.00      0.88       106\n",
      "\n",
      "    accuracy                           0.84       245\n",
      "   macro avg       0.89      0.78      0.78       245\n",
      "weighted avg       0.87      0.84      0.81       245\n",
      "\n",
      "Fold Number :  3\n",
      "              precision    recall  f1-score   support\n",
      "\n",
      "     class 0       0.76      1.00      0.86        78\n",
      "     class 1       1.00      0.15      0.26        61\n",
      "     class 2       0.80      1.00      0.89       106\n",
      "\n",
      "    accuracy                           0.79       245\n",
      "   macro avg       0.85      0.72      0.67       245\n",
      "weighted avg       0.83      0.79      0.72       245\n",
      "\n",
      "Fold Number :  4\n",
      "              precision    recall  f1-score   support\n",
      "\n",
      "     class 0       0.79      1.00      0.88        72\n",
      "     class 1       1.00      0.30      0.46        60\n",
      "     class 2       0.83      1.00      0.91       113\n",
      "\n",
      "    accuracy                           0.83       245\n",
      "   macro avg       0.87      0.77      0.75       245\n",
      "weighted avg       0.86      0.83      0.79       245\n",
      "\n",
      "Fold Number :  5\n",
      "              precision    recall  f1-score   support\n",
      "\n",
      "     class 0       0.81      1.00      0.89        67\n",
      "     class 1       1.00      0.34      0.51        58\n",
      "     class 2       0.85      1.00      0.92       120\n",
      "\n",
      "    accuracy                           0.84       245\n",
      "   macro avg       0.88      0.78      0.77       245\n",
      "weighted avg       0.87      0.84      0.81       245\n",
      "\n",
      "Fold Number :  6\n",
      "              precision    recall  f1-score   support\n",
      "\n",
      "     class 0       0.87      1.00      0.93        80\n",
      "     class 1       1.00      0.34      0.51        59\n",
      "     class 2       0.80      1.00      0.89       106\n",
      "\n",
      "    accuracy                           0.84       245\n",
      "   macro avg       0.89      0.78      0.77       245\n",
      "weighted avg       0.87      0.84      0.81       245\n",
      "\n",
      "Fold Number :  7\n",
      "              precision    recall  f1-score   support\n",
      "\n",
      "     class 0       0.84      1.00      0.91        71\n",
      "     class 1       1.00      0.29      0.45        55\n",
      "     class 2       0.83      1.00      0.90       119\n",
      "\n",
      "    accuracy                           0.84       245\n",
      "   macro avg       0.89      0.76      0.76       245\n",
      "weighted avg       0.87      0.84      0.80       245\n",
      "\n",
      "Fold Number :  8\n",
      "              precision    recall  f1-score   support\n",
      "\n",
      "     class 0       0.76      1.00      0.86        62\n",
      "     class 1       1.00      0.22      0.37        67\n",
      "     class 2       0.78      1.00      0.88       116\n",
      "\n",
      "    accuracy                           0.79       245\n",
      "   macro avg       0.85      0.74      0.70       245\n",
      "weighted avg       0.84      0.79      0.73       245\n",
      "\n",
      "Fold Number :  9\n",
      "              precision    recall  f1-score   support\n",
      "\n",
      "     class 0       0.84      1.00      0.91        69\n",
      "     class 1       1.00      0.29      0.44        63\n",
      "     class 2       0.78      1.00      0.88       112\n",
      "\n",
      "    accuracy                           0.82       244\n",
      "   macro avg       0.87      0.76      0.74       244\n",
      "weighted avg       0.85      0.82      0.77       244\n",
      "\n",
      "Fold Number :  10\n",
      "              precision    recall  f1-score   support\n",
      "\n",
      "     class 0       0.83      1.00      0.91        79\n",
      "     class 1       1.00      0.21      0.35        57\n",
      "     class 2       0.79      1.00      0.88       108\n",
      "\n",
      "    accuracy                           0.82       244\n",
      "   macro avg       0.87      0.74      0.71       244\n",
      "weighted avg       0.85      0.82      0.77       244\n",
      "\n"
     ]
    }
   ],
   "source": [
    "kf = KFold(n_splits=10)\n",
    "count = 0\n",
    "for train_index, test_index in kf.split(X):\n",
    "     count = count + 1\n",
    "     X_train, X_test = X[train_index], X[test_index]\n",
    "     y_train, y_test = y[train_index], y[test_index] \n",
    "     clf = RidgeClassifier().fit(X_train, y_train)\n",
    "     labels = clf.predict(X_test)\n",
    "     print(\"Fold Number : \" , count)\n",
    "     print(classification_report(y_test,labels,target_names = ['class 0', 'class 1', 'class 2']))"
   ]
  },
  {
   "cell_type": "markdown",
   "id": "409934f6",
   "metadata": {},
   "source": [
    "Using training and testing sets"
   ]
  },
  {
   "cell_type": "code",
   "execution_count": 88,
   "id": "7c50e8ea",
   "metadata": {},
   "outputs": [],
   "source": [
    "train, test = train_test_split(football_non_shuffled, test_size = 0.2)\n",
    "X = train[[\"FullTimeHomeGoals\",\"FullTimeAwayGoals\"]].to_numpy()\n",
    "y = train[\"FullTimeResult\"]\n",
    "clf = RidgeClassifier().fit(X, y)\n",
    "labels = clf.predict(test[[\"FullTimeHomeGoals\",\"FullTimeAwayGoals\"]])"
   ]
  },
  {
   "cell_type": "code",
   "execution_count": 89,
   "id": "4456554a",
   "metadata": {},
   "outputs": [
    {
     "name": "stdout",
     "output_type": "stream",
     "text": [
      "              precision    recall  f1-score   support\n",
      "\n",
      "     class 0       0.83      1.00      0.91       148\n",
      "     class 1       1.00      0.23      0.38       124\n",
      "     class 2       0.77      1.00      0.87       218\n",
      "\n",
      "    accuracy                           0.81       490\n",
      "   macro avg       0.87      0.74      0.72       490\n",
      "weighted avg       0.85      0.81      0.76       490\n",
      "\n"
     ]
    }
   ],
   "source": [
    "print(classification_report(test[\"FullTimeResult\"],labels,target_names = ['class 0', 'class 1', 'class 2']))"
   ]
  },
  {
   "cell_type": "markdown",
   "id": "50a151b0",
   "metadata": {},
   "source": [
    "The overall accuracy of the Ridge linear classifier yields an accuracy of 0.82 with K fold cross validation and 0.81 with the training and testing set. We can generalise and say the use of K fold and training and testing sets has no effect on the ridge classifier and therefore it generalises well to new data. Again, due to the nature of the dataset. We can also hypothesise that the data set is linearly separable due to the high F scores for the home win and away win classes."
   ]
  },
  {
   "cell_type": "markdown",
   "id": "316b66ae",
   "metadata": {},
   "source": [
    "# MLP classification"
   ]
  },
  {
   "cell_type": "code",
   "execution_count": 106,
   "id": "f04ecb8f",
   "metadata": {},
   "outputs": [],
   "source": [
    "from sklearn.neural_network import MLPClassifier"
   ]
  },
  {
   "cell_type": "markdown",
   "id": "5e20dd0d",
   "metadata": {},
   "source": [
    "Running with default parameters"
   ]
  },
  {
   "cell_type": "code",
   "execution_count": 149,
   "id": "9632460a",
   "metadata": {},
   "outputs": [
    {
     "name": "stdout",
     "output_type": "stream",
     "text": [
      "              precision    recall  f1-score   support\n",
      "\n",
      "     class 0       1.00      1.00      1.00       148\n",
      "     class 1       1.00      1.00      1.00       124\n",
      "     class 2       1.00      1.00      1.00       218\n",
      "\n",
      "    accuracy                           1.00       490\n",
      "   macro avg       1.00      1.00      1.00       490\n",
      "weighted avg       1.00      1.00      1.00       490\n",
      "\n"
     ]
    },
    {
     "name": "stderr",
     "output_type": "stream",
     "text": [
      "C:\\Users\\evan_\\anaconda3\\lib\\site-packages\\sklearn\\neural_network\\_multilayer_perceptron.py:614: ConvergenceWarning: Stochastic Optimizer: Maximum iterations (200) reached and the optimization hasn't converged yet.\n",
      "  warnings.warn(\n"
     ]
    }
   ],
   "source": [
    "reg = MLPClassifier(random_state=42).fit(X, y)\n",
    "labels = reg.predict(test[[\"FullTimeHomeGoals\",\"FullTimeAwayGoals\"]])\n",
    "print(classification_report(test[\"FullTimeResult\"],labels,target_names = ['class 0', 'class 1', 'class 2']))"
   ]
  },
  {
   "cell_type": "markdown",
   "id": "c7570a40",
   "metadata": {},
   "source": [
    "# Modifying parameters of MLP"
   ]
  },
  {
   "cell_type": "markdown",
   "id": "97ebe2e5",
   "metadata": {},
   "source": [
    "Modifying the learning rate to be lower. Default is 0.001"
   ]
  },
  {
   "cell_type": "code",
   "execution_count": 195,
   "id": "19b62b18",
   "metadata": {},
   "outputs": [
    {
     "name": "stdout",
     "output_type": "stream",
     "text": [
      "              precision    recall  f1-score   support\n",
      "\n",
      "     class 0       0.00      0.00      0.00       148\n",
      "     class 1       0.39      0.76      0.51       124\n",
      "     class 2       0.88      1.00      0.94       218\n",
      "\n",
      "    accuracy                           0.64       490\n",
      "   macro avg       0.42      0.59      0.48       490\n",
      "weighted avg       0.49      0.64      0.55       490\n",
      "\n"
     ]
    },
    {
     "name": "stderr",
     "output_type": "stream",
     "text": [
      "C:\\Users\\evan_\\anaconda3\\lib\\site-packages\\sklearn\\neural_network\\_multilayer_perceptron.py:614: ConvergenceWarning: Stochastic Optimizer: Maximum iterations (200) reached and the optimization hasn't converged yet.\n",
      "  warnings.warn(\n",
      "C:\\Users\\evan_\\anaconda3\\lib\\site-packages\\sklearn\\metrics\\_classification.py:1245: UndefinedMetricWarning: Precision and F-score are ill-defined and being set to 0.0 in labels with no predicted samples. Use `zero_division` parameter to control this behavior.\n",
      "  _warn_prf(average, modifier, msg_start, len(result))\n",
      "C:\\Users\\evan_\\anaconda3\\lib\\site-packages\\sklearn\\metrics\\_classification.py:1245: UndefinedMetricWarning: Precision and F-score are ill-defined and being set to 0.0 in labels with no predicted samples. Use `zero_division` parameter to control this behavior.\n",
      "  _warn_prf(average, modifier, msg_start, len(result))\n",
      "C:\\Users\\evan_\\anaconda3\\lib\\site-packages\\sklearn\\metrics\\_classification.py:1245: UndefinedMetricWarning: Precision and F-score are ill-defined and being set to 0.0 in labels with no predicted samples. Use `zero_division` parameter to control this behavior.\n",
      "  _warn_prf(average, modifier, msg_start, len(result))\n"
     ]
    }
   ],
   "source": [
    "X = train[[\"FullTimeHomeGoals\",\"FullTimeAwayGoals\"]].to_numpy()\n",
    "reg = MLPClassifier(random_state=42,learning_rate = 'constant', learning_rate_init = 0.00001, solver = 'sgd').fit(X, y)\n",
    "labels = reg.predict(test[[\"FullTimeHomeGoals\",\"FullTimeAwayGoals\"]])\n",
    "print(classification_report(test[\"FullTimeResult\"],labels,target_names = ['class 0', 'class 1', 'class 2']))"
   ]
  },
  {
   "cell_type": "markdown",
   "id": "11f144f4",
   "metadata": {},
   "source": [
    "The effect of reducing the learning rate from 0.001 to 0.00001 (2 orders of magnitude) reduced the overall accuracy of the classifier to 64% with very poor F-measures for the home win and draw classes. This is likely due to not having enough iterations (default is 200)."
   ]
  },
  {
   "cell_type": "code",
   "execution_count": 146,
   "id": "424c3784",
   "metadata": {},
   "outputs": [
    {
     "name": "stdout",
     "output_type": "stream",
     "text": [
      "              precision    recall  f1-score   support\n",
      "\n",
      "     class 0       1.00      1.00      1.00       148\n",
      "     class 1       1.00      0.76      0.86       124\n",
      "     class 2       0.88      1.00      0.94       218\n",
      "\n",
      "    accuracy                           0.94       490\n",
      "   macro avg       0.96      0.92      0.93       490\n",
      "weighted avg       0.95      0.94      0.94       490\n",
      "\n"
     ]
    }
   ],
   "source": [
    "reg = MLPClassifier(random_state=42,learning_rate = 'constant', learning_rate_init = 0.00001 , max_iter = 2000 ,solver = 'sgd').fit(X, y)\n",
    "labels = reg.predict(test[[\"FullTimeHomeGoals\",\"FullTimeAwayGoals\"]])\n",
    "print(classification_report(test[\"FullTimeResult\"],labels,target_names = ['class 0', 'class 1', 'class 2']))"
   ]
  },
  {
   "cell_type": "markdown",
   "id": "72ca52dc",
   "metadata": {},
   "source": [
    "Increasing the iterations from 200 to 2000 corrected increased the overall accuracy from 0.64 -> 0.94, more iterations will likely return the accuracy to 100 however further increasing the max_iter will increase the computation time."
   ]
  },
  {
   "cell_type": "markdown",
   "id": "291f4a8b",
   "metadata": {},
   "source": [
    "Modifying the momentum attribute (default = 0.9)"
   ]
  },
  {
   "cell_type": "code",
   "execution_count": 155,
   "id": "5e5288a5",
   "metadata": {},
   "outputs": [
    {
     "name": "stdout",
     "output_type": "stream",
     "text": [
      "              precision    recall  f1-score   support\n",
      "\n",
      "     class 0       1.00      1.00      1.00       148\n",
      "     class 1       1.00      0.98      0.99       124\n",
      "     class 2       0.99      1.00      0.99       218\n",
      "\n",
      "    accuracy                           0.99       490\n",
      "   macro avg       1.00      0.99      0.99       490\n",
      "weighted avg       0.99      0.99      0.99       490\n",
      "\n"
     ]
    },
    {
     "name": "stderr",
     "output_type": "stream",
     "text": [
      "C:\\Users\\evan_\\anaconda3\\lib\\site-packages\\sklearn\\neural_network\\_multilayer_perceptron.py:614: ConvergenceWarning: Stochastic Optimizer: Maximum iterations (200) reached and the optimization hasn't converged yet.\n",
      "  warnings.warn(\n"
     ]
    }
   ],
   "source": [
    "reg = MLPClassifier(random_state=42,  momentum = 0.4, solver = 'sgd').fit(X, y)\n",
    "labels = reg.predict(test[[\"FullTimeHomeGoals\",\"FullTimeAwayGoals\"]])\n",
    "print(classification_report(test[\"FullTimeResult\"],labels,target_names = ['class 0', 'class 1', 'class 2']))"
   ]
  },
  {
   "cell_type": "markdown",
   "id": "2b44c370",
   "metadata": {},
   "source": [
    "Modifying the momentum value from the 0.9 default to 0.4, decreases the overall accuracy from 100 to 99. A momentum value greater than 0.4 does not affect the overall accuracy of the MLP classifier. Even decreasing the momentum value several orders of magnitude (0.9 -> 0.001) only yields a 0.06 drop in accuracy, therefore the momentum value does not have a strong effect on the accuracy of the classifier."
   ]
  },
  {
   "cell_type": "markdown",
   "id": "ca827a3e",
   "metadata": {},
   "source": [
    "Modifying the activation function (default = relu)"
   ]
  },
  {
   "cell_type": "code",
   "execution_count": 158,
   "id": "bd22061e",
   "metadata": {},
   "outputs": [
    {
     "name": "stdout",
     "output_type": "stream",
     "text": [
      "              precision    recall  f1-score   support\n",
      "\n",
      "     class 0       1.00      1.00      1.00       148\n",
      "     class 1       1.00      1.00      1.00       124\n",
      "     class 2       1.00      1.00      1.00       218\n",
      "\n",
      "    accuracy                           1.00       490\n",
      "   macro avg       1.00      1.00      1.00       490\n",
      "weighted avg       1.00      1.00      1.00       490\n",
      "\n"
     ]
    }
   ],
   "source": [
    "reg = MLPClassifier(random_state=42, activation = 'tanh').fit(X, y)\n",
    "labels = reg.predict(test[[\"FullTimeHomeGoals\",\"FullTimeAwayGoals\"]])\n",
    "print(classification_report(test[\"FullTimeResult\"],labels,target_names = ['class 0', 'class 1', 'class 2']))"
   ]
  },
  {
   "cell_type": "markdown",
   "id": "30fdcc65",
   "metadata": {},
   "source": [
    "Changing the activation function does not have an effect on the accuracy of the MLP classifier"
   ]
  },
  {
   "cell_type": "markdown",
   "id": "c3220f7d",
   "metadata": {},
   "source": [
    "Modifying layer size and number of layers"
   ]
  },
  {
   "cell_type": "code",
   "execution_count": 178,
   "id": "e5971bce",
   "metadata": {},
   "outputs": [
    {
     "name": "stdout",
     "output_type": "stream",
     "text": [
      "              precision    recall  f1-score   support\n",
      "\n",
      "     class 0       0.00      0.00      0.00       148\n",
      "     class 1       0.00      0.00      0.00       124\n",
      "     class 2       0.44      1.00      0.62       218\n",
      "\n",
      "    accuracy                           0.44       490\n",
      "   macro avg       0.15      0.33      0.21       490\n",
      "weighted avg       0.20      0.44      0.27       490\n",
      "\n"
     ]
    },
    {
     "name": "stderr",
     "output_type": "stream",
     "text": [
      "C:\\Users\\evan_\\anaconda3\\lib\\site-packages\\sklearn\\metrics\\_classification.py:1245: UndefinedMetricWarning: Precision and F-score are ill-defined and being set to 0.0 in labels with no predicted samples. Use `zero_division` parameter to control this behavior.\n",
      "  _warn_prf(average, modifier, msg_start, len(result))\n",
      "C:\\Users\\evan_\\anaconda3\\lib\\site-packages\\sklearn\\metrics\\_classification.py:1245: UndefinedMetricWarning: Precision and F-score are ill-defined and being set to 0.0 in labels with no predicted samples. Use `zero_division` parameter to control this behavior.\n",
      "  _warn_prf(average, modifier, msg_start, len(result))\n",
      "C:\\Users\\evan_\\anaconda3\\lib\\site-packages\\sklearn\\metrics\\_classification.py:1245: UndefinedMetricWarning: Precision and F-score are ill-defined and being set to 0.0 in labels with no predicted samples. Use `zero_division` parameter to control this behavior.\n",
      "  _warn_prf(average, modifier, msg_start, len(result))\n"
     ]
    }
   ],
   "source": [
    "reg = MLPClassifier(random_state=42, hidden_layer_sizes = (1,1,1)).fit(X, y)\n",
    "labels = reg.predict(test[[\"FullTimeHomeGoals\",\"FullTimeAwayGoals\"]])\n",
    "print(classification_report(test[\"FullTimeResult\"],labels,target_names = ['class 0', 'class 1', 'class 2']))"
   ]
  },
  {
   "cell_type": "markdown",
   "id": "e5d4c5af",
   "metadata": {},
   "source": [
    "Reducing the hidden layer sizes to 3 layers of size 1, reduced the overall accuracy to 0.44 with a 0 F-measure for the Home Win and Draw classifications. This is due to not having a layer size that is the same size as the number of classes (3). Changing the hidden_layer_sizes to 3 corrected this."
   ]
  },
  {
   "cell_type": "code",
   "execution_count": 185,
   "id": "dbad0e29",
   "metadata": {},
   "outputs": [
    {
     "name": "stdout",
     "output_type": "stream",
     "text": [
      "              precision    recall  f1-score   support\n",
      "\n",
      "     class 0       1.00      1.00      1.00       148\n",
      "     class 1       1.00      1.00      1.00       124\n",
      "     class 2       1.00      1.00      1.00       218\n",
      "\n",
      "    accuracy                           1.00       490\n",
      "   macro avg       1.00      1.00      1.00       490\n",
      "weighted avg       1.00      1.00      1.00       490\n",
      "\n"
     ]
    },
    {
     "name": "stderr",
     "output_type": "stream",
     "text": [
      "C:\\Users\\evan_\\anaconda3\\lib\\site-packages\\sklearn\\neural_network\\_multilayer_perceptron.py:614: ConvergenceWarning: Stochastic Optimizer: Maximum iterations (200) reached and the optimization hasn't converged yet.\n",
      "  warnings.warn(\n"
     ]
    }
   ],
   "source": [
    "reg = MLPClassifier(random_state=42, hidden_layer_sizes = (3,3,3)).fit(X, y)\n",
    "labels = reg.predict(test[[\"FullTimeHomeGoals\",\"FullTimeAwayGoals\"]])\n",
    "print(classification_report(test[\"FullTimeResult\"],labels,target_names = ['class 0', 'class 1', 'class 2']))"
   ]
  },
  {
   "cell_type": "markdown",
   "id": "98fbdb0d",
   "metadata": {},
   "source": [
    "Adding many more layers also reduced the accuracy "
   ]
  },
  {
   "cell_type": "code",
   "execution_count": 193,
   "id": "ca1efbfe",
   "metadata": {},
   "outputs": [
    {
     "name": "stdout",
     "output_type": "stream",
     "text": [
      "              precision    recall  f1-score   support\n",
      "\n",
      "     class 0       1.00      1.00      1.00       148\n",
      "     class 1       0.00      0.00      0.00       124\n",
      "     class 2       0.64      1.00      0.78       218\n",
      "\n",
      "    accuracy                           0.75       490\n",
      "   macro avg       0.55      0.67      0.59       490\n",
      "weighted avg       0.59      0.75      0.65       490\n",
      "\n"
     ]
    },
    {
     "name": "stderr",
     "output_type": "stream",
     "text": [
      "C:\\Users\\evan_\\anaconda3\\lib\\site-packages\\sklearn\\neural_network\\_multilayer_perceptron.py:614: ConvergenceWarning: Stochastic Optimizer: Maximum iterations (200) reached and the optimization hasn't converged yet.\n",
      "  warnings.warn(\n",
      "C:\\Users\\evan_\\anaconda3\\lib\\site-packages\\sklearn\\metrics\\_classification.py:1245: UndefinedMetricWarning: Precision and F-score are ill-defined and being set to 0.0 in labels with no predicted samples. Use `zero_division` parameter to control this behavior.\n",
      "  _warn_prf(average, modifier, msg_start, len(result))\n",
      "C:\\Users\\evan_\\anaconda3\\lib\\site-packages\\sklearn\\metrics\\_classification.py:1245: UndefinedMetricWarning: Precision and F-score are ill-defined and being set to 0.0 in labels with no predicted samples. Use `zero_division` parameter to control this behavior.\n",
      "  _warn_prf(average, modifier, msg_start, len(result))\n",
      "C:\\Users\\evan_\\anaconda3\\lib\\site-packages\\sklearn\\metrics\\_classification.py:1245: UndefinedMetricWarning: Precision and F-score are ill-defined and being set to 0.0 in labels with no predicted samples. Use `zero_division` parameter to control this behavior.\n",
      "  _warn_prf(average, modifier, msg_start, len(result))\n"
     ]
    }
   ],
   "source": [
    "reg = MLPClassifier(random_state=42, hidden_layer_sizes = (3,3,3,3,3,3)).fit(X, y)\n",
    "labels = reg.predict(test[[\"FullTimeHomeGoals\",\"FullTimeAwayGoals\"]])\n",
    "print(classification_report(test[\"FullTimeResult\"],labels,target_names = ['class 0', 'class 1', 'class 2']))"
   ]
  },
  {
   "cell_type": "markdown",
   "id": "c9bbea6d",
   "metadata": {},
   "source": [
    "# Summary and conclusion"
   ]
  },
  {
   "cell_type": "markdown",
   "id": "fb4995e4",
   "metadata": {},
   "source": [
    "The dataset used for the coursework uses a very simple classification, that is, classifying whether a game was a win for the home team, away team or a draw by looking at the scoreline. This is trivial for humans and most classifiers, supervised and unsupervised, predicted this with a decent degree of accuracy. We can say that the data is linearly separable as we could drop the draw results and plot the home and away wins on a graph and easily draw that separates the two that classifies all the results correctly.\n",
    "\n",
    "For this dataset, we can see that the MLP generalises well to new data in this case, with accuracy of 100%. However, this may not be the case for other datasets such as the iris dataset which is more difficult to classify correctly."
   ]
  },
  {
   "cell_type": "code",
   "execution_count": null,
   "id": "75ade728",
   "metadata": {},
   "outputs": [],
   "source": []
  }
 ],
 "metadata": {
  "kernelspec": {
   "display_name": "Python 3",
   "language": "python",
   "name": "python3"
  },
  "language_info": {
   "codemirror_mode": {
    "name": "ipython",
    "version": 3
   },
   "file_extension": ".py",
   "mimetype": "text/x-python",
   "name": "python",
   "nbconvert_exporter": "python",
   "pygments_lexer": "ipython3",
   "version": "3.8.8"
  }
 },
 "nbformat": 4,
 "nbformat_minor": 5
}
